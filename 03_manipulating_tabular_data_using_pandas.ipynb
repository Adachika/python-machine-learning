{
 "cells": [
  {
   "cell_type": "markdown",
   "metadata": {},
   "source": [
    "# Chapter 3 - Manipulating Tabular Data Using Pandas"
   ]
  },
  {
   "cell_type": "markdown",
   "metadata": {},
   "source": [
    "- [What is Pandas](#what-is-pandas)\n",
    "- [Pandas Series](#pandas-series)\n",
    "  - [Creating a Series Using a Specified Index](#creating-series)\n",
    "  - [Accesing Elements in a Series](#accesing-elements-series)\n",
    "  - [Specifying a Datetime Range as the Index of a Series](#datetime-index)\n",
    "  - [Date Ranges](#date-ranges)\n",
    "- [Pandas DataFrame](#pandas-dataframe)\n",
    "  - [Creating a DataFrame](#creating-dataframe)\n",
    "  - [Specifying the Index in a DataFrame](#dataframe-index)\n",
    "  - [Generating Descriptive Statistics on the DataFrame](#dataframe-statistics)\n",
    "  - [Extracting from DataFrames](#dataframe-extracting)\n",
    "  - [Selecting a Single Cell in a DataFrame](#single-cell-dataframe)\n",
    "  - [Selecting Based on Cell Value](#selecting-based-cell-value)\n",
    "  - [Transforming DataFrames](#transforming-dataframes)\n",
    "  - [Checking to See If a Result Is a DataFrame or Series](#dataframe-series)\n",
    "  - [Sorting Data in a DataFrame](#sorting-dataframe)\n",
    "  - [Applying Functions to a DataFrame](#functions-dataframe)\n",
    "  - [Adding and Removing Rows and Columns in a DataFrame](#rows-columns)\n",
    "  - [Generating a Crosstab](#crosstab)"
   ]
  },
  {
   "cell_type": "markdown",
   "metadata": {},
   "source": [
    "<a id=\"#what-is-pandas\"></a>\n",
    "## What is Pandas?\n",
    "Pandas is a Python package providing fast, flexible, and expressive data structures designed to make working with “relational” or “labeled” data both easy and intuitive.<br> **Pandas stands for Panel Data Analysis.**\n"
   ]
  },
  {
   "cell_type": "markdown",
   "metadata": {},
   "source": [
    "<a id=\"pandas-series\"></a>\n",
    "## Pandas Series"
   ]
  },
  {
   "cell_type": "markdown",
   "metadata": {},
   "source": [
    "A Pandas Series is a one-dimensional NumPy-like array, with each element having an index (0, 1, 2, . . . by default); a Series behaves very much like a dictionary that includes an index.<br>\n",
    "To create a Series, you first need to import the pandas library (the convention is to use pd as the alias) and then use the Series class:"
   ]
  },
  {
   "cell_type": "code",
   "execution_count": 1,
   "metadata": {},
   "outputs": [
    {
     "name": "stdout",
     "output_type": "stream",
     "text": [
      "0    1\n",
      "1    2\n",
      "2    3\n",
      "3    4\n",
      "4    5\n",
      "dtype: int64\n"
     ]
    }
   ],
   "source": [
    "import pandas as pd\n",
    "series_uno = pd.Series([1,2,3,4,5])\n",
    "print(series_uno)"
   ]
  },
  {
   "cell_type": "markdown",
   "metadata": {},
   "source": [
    "By default, the index of a Series starts from 0"
   ]
  },
  {
   "cell_type": "markdown",
   "metadata": {},
   "source": [
    "<a id=\"creating-series\"></a>\n",
    "### Creating a Series Using a Specified Index\n",
    "You can specify an optional index for a Series using the index parameter:"
   ]
  },
  {
   "cell_type": "code",
   "execution_count": 2,
   "metadata": {},
   "outputs": [
    {
     "name": "stdout",
     "output_type": "stream",
     "text": [
      "a    1\n",
      "b    2\n",
      "c    3\n",
      "d    4\n",
      "c    5\n",
      "dtype: int64\n"
     ]
    }
   ],
   "source": [
    "series_dos = pd.Series([1,2,3,4,5], index=['a','b','c','d','c'])\n",
    "print(series_dos)"
   ]
  },
  {
   "cell_type": "markdown",
   "metadata": {},
   "source": [
    "It is worth noting that the index of a Series need not be unique."
   ]
  },
  {
   "cell_type": "markdown",
   "metadata": {},
   "source": [
    "<a id=\"accesing-elements-series\"></a>\n",
    "### Accesing Elements in a Series\n",
    "Accessing an element in a Series is similar to accessing an element in an array. "
   ]
  },
  {
   "cell_type": "code",
   "execution_count": 3,
   "metadata": {},
   "outputs": [
    {
     "name": "stdout",
     "output_type": "stream",
     "text": [
      "3\n"
     ]
    }
   ],
   "source": [
    "print(series_uno[2])"
   ]
  },
  {
   "cell_type": "markdown",
   "metadata": {},
   "source": [
    "The iloc indexer allows you to specify an element via its position."
   ]
  },
  {
   "cell_type": "code",
   "execution_count": 4,
   "metadata": {},
   "outputs": [
    {
     "name": "stdout",
     "output_type": "stream",
     "text": [
      "3\n"
     ]
    }
   ],
   "source": [
    "#  based on the position of the index\n",
    "print(series_uno.iloc[2]) "
   ]
  },
  {
   "cell_type": "markdown",
   "metadata": {},
   "source": [
    "Alternatively, you can also specify the value of the index of the element you wish to access "
   ]
  },
  {
   "cell_type": "code",
   "execution_count": 5,
   "metadata": {},
   "outputs": [
    {
     "name": "stdout",
     "output_type": "stream",
     "text": [
      "4\n"
     ]
    }
   ],
   "source": [
    "print(series_dos['d'])"
   ]
  },
  {
   "cell_type": "markdown",
   "metadata": {},
   "source": [
    "The loc indexer allows you to specify the label (value) of an index"
   ]
  },
  {
   "cell_type": "code",
   "execution_count": 6,
   "metadata": {},
   "outputs": [
    {
     "name": "stdout",
     "output_type": "stream",
     "text": [
      "4\n"
     ]
    }
   ],
   "source": [
    "# based on the label in the index\n",
    "print(series_dos.loc['d'])"
   ]
  },
  {
   "cell_type": "code",
   "execution_count": 7,
   "metadata": {},
   "outputs": [
    {
     "name": "stdout",
     "output_type": "stream",
     "text": [
      "c    3\n",
      "c    5\n",
      "dtype: int64\n"
     ]
    }
   ],
   "source": [
    "# more than 1 row has the index 'c'\n",
    "print(series_dos['c'])"
   ]
  },
  {
   "cell_type": "markdown",
   "metadata": {},
   "source": [
    "You can also perform slicing on a Series:"
   ]
  },
  {
   "cell_type": "code",
   "execution_count": 8,
   "metadata": {},
   "outputs": [
    {
     "name": "stdout",
     "output_type": "stream",
     "text": [
      "c    3\n",
      "d    4\n",
      "c    5\n",
      "dtype: int64\n"
     ]
    }
   ],
   "source": [
    "print(series_dos[2:])"
   ]
  },
  {
   "cell_type": "code",
   "execution_count": 9,
   "metadata": {},
   "outputs": [
    {
     "name": "stdout",
     "output_type": "stream",
     "text": [
      "c    3\n",
      "d    4\n",
      "c    5\n",
      "dtype: int64\n"
     ]
    }
   ],
   "source": [
    "print(series_dos.iloc[2:])"
   ]
  },
  {
   "cell_type": "markdown",
   "metadata": {},
   "source": [
    "<a id=\"datetime-index\"></a>\n",
    "### Specifying a Datetime Range as the Index of a Series"
   ]
  },
  {
   "cell_type": "markdown",
   "metadata": {},
   "source": [
    "Often, you want to create a timeseries, such as a running sequence of dates in a month. You could use the `date _ range()` function for this purpose:"
   ]
  },
  {
   "cell_type": "code",
   "execution_count": 10,
   "metadata": {},
   "outputs": [
    {
     "name": "stdout",
     "output_type": "stream",
     "text": [
      "DatetimeIndex(['2019-05-25', '2019-05-26', '2019-05-27', '2019-05-28',\n",
      "               '2019-05-29', '2019-05-30', '2019-05-31', '2019-06-01',\n",
      "               '2019-06-02', '2019-06-03', '2019-06-04', '2019-06-05'],\n",
      "              dtype='datetime64[ns]', freq='D')\n"
     ]
    }
   ],
   "source": [
    "dates1 = pd.date_range('20190525', periods=12)\n",
    "print(dates1)"
   ]
  },
  {
   "cell_type": "markdown",
   "metadata": {},
   "source": [
    "To assign the range of dates as the index of a Series, use the index property "
   ]
  },
  {
   "cell_type": "code",
   "execution_count": 11,
   "metadata": {},
   "outputs": [
    {
     "name": "stdout",
     "output_type": "stream",
     "text": [
      "2019-05-25     1\n",
      "2019-05-26     2\n",
      "2019-05-27     3\n",
      "2019-05-28     4\n",
      "2019-05-29     5\n",
      "2019-05-30     6\n",
      "2019-05-31     7\n",
      "2019-06-01     8\n",
      "2019-06-02     9\n",
      "2019-06-03    10\n",
      "2019-06-04    11\n",
      "2019-06-05    12\n",
      "Freq: D, dtype: int64\n"
     ]
    }
   ],
   "source": [
    "series = pd.Series([1,2,3,4,5,6,7,8,9,10,11,12])\n",
    "series.index = dates1\n",
    "print(series)"
   ]
  },
  {
   "cell_type": "markdown",
   "metadata": {},
   "source": [
    "<a id=\"date-ranges\"></a>\n",
    "### Date Ranges"
   ]
  },
  {
   "cell_type": "markdown",
   "metadata": {},
   "source": [
    "The periods parameter specifies how many dates you want to create, and the default frequency is `D` (for Daily). If you want to change the frequency to month, use the `freq` parameter and set it to `M`"
   ]
  },
  {
   "cell_type": "code",
   "execution_count": 12,
   "metadata": {},
   "outputs": [
    {
     "name": "stdout",
     "output_type": "stream",
     "text": [
      "DatetimeIndex(['2019-05-31', '2019-06-30', '2019-07-31', '2019-08-31',\n",
      "               '2019-09-30', '2019-10-31', '2019-11-30', '2019-12-31',\n",
      "               '2020-01-31', '2020-02-29', '2020-03-31', '2020-04-30'],\n",
      "              dtype='datetime64[ns]', freq='M')\n"
     ]
    }
   ],
   "source": [
    "dates2 = pd.date_range('2019-05-01', periods=12, freq='M')\n",
    "print(dates2)"
   ]
  },
  {
   "cell_type": "markdown",
   "metadata": {},
   "source": [
    "Notice that when the frequency is set to month, the day of each date will be the last day of the month. If you want the date to start with the first day of the month, set the `freq` parameter to `MS`"
   ]
  },
  {
   "cell_type": "code",
   "execution_count": 13,
   "metadata": {},
   "outputs": [
    {
     "name": "stdout",
     "output_type": "stream",
     "text": [
      "DatetimeIndex(['2019-05-01', '2019-06-01', '2019-07-01', '2019-08-01',\n",
      "               '2019-09-01', '2019-10-01', '2019-11-01', '2019-12-01',\n",
      "               '2020-01-01', '2020-02-01', '2020-03-01', '2020-04-01'],\n",
      "              dtype='datetime64[ns]', freq='MS')\n"
     ]
    }
   ],
   "source": [
    "dates2 = pd.date_range('2019-05-01', periods=12, freq='MS')\n",
    "print(dates2)"
   ]
  },
  {
   "cell_type": "markdown",
   "metadata": {},
   "source": [
    "**TIP** For other date frequencies, check out the Offset Aliases section of the documentation [here](http://pandas.pydata.org/pandas-docs/stable/timeseries.html#offset-aliases)"
   ]
  },
  {
   "cell_type": "markdown",
   "metadata": {},
   "source": [
    "In addition to setting dates, you can also set the time:"
   ]
  },
  {
   "cell_type": "code",
   "execution_count": 14,
   "metadata": {},
   "outputs": [
    {
     "name": "stdout",
     "output_type": "stream",
     "text": [
      "DatetimeIndex(['2019-05-17 09:00:00', '2019-05-17 10:00:00',\n",
      "               '2019-05-17 11:00:00', '2019-05-17 12:00:00',\n",
      "               '2019-05-17 13:00:00', '2019-05-17 14:00:00',\n",
      "               '2019-05-17 15:00:00', '2019-05-17 16:00:00'],\n",
      "              dtype='datetime64[ns]', freq='H')\n"
     ]
    }
   ],
   "source": [
    "date3 = pd.date_range('2019/05/17 09:00:00', periods=8, freq='H')\n",
    "print(date3)"
   ]
  },
  {
   "cell_type": "markdown",
   "metadata": {},
   "source": [
    "<a id=\"pandas-dataframe\"></a>\n",
    "## Pandas DataFrame"
   ]
  },
  {
   "cell_type": "markdown",
   "metadata": {},
   "source": [
    "A Pandas DataFrame is a two-dimensional NumPy-like array. You can think of\n",
    "it as a table.<br>\n",
    "A DataFrame is very useful in the world of data science and machine learning, as it closely mirrors how data are stored in real-life. Imagine the data stored in a spreadsheet, and you would have a very good visual impression of a DataFrame."
   ]
  },
  {
   "cell_type": "markdown",
   "metadata": {},
   "source": [
    "<a id=\"creating-dataframe\"></a>\n",
    "### Creating a DataFrame\n",
    "You can create a Pandas DataFrame using the DataFrame() class:"
   ]
  },
  {
   "cell_type": "code",
   "execution_count": 15,
   "metadata": {},
   "outputs": [
    {
     "name": "stdout",
     "output_type": "stream",
     "text": [
      "          A         B         C         D\n",
      "0  0.118884  0.385206 -0.320386 -0.456324\n",
      "1  0.734527 -1.737722 -0.164112  0.741052\n",
      "2 -1.024309  0.056186  2.075116 -0.288879\n",
      "3 -1.263449 -0.123481 -0.549220 -0.444590\n",
      "4 -0.567627 -0.572061  1.427365  0.451036\n",
      "5 -0.572796 -0.820218 -0.156499 -0.070004\n",
      "6  1.899104 -0.192962 -0.676094  0.102150\n",
      "7 -1.950551  0.359557  1.034092 -0.608499\n",
      "8 -0.082232 -0.704745  2.212451 -0.796912\n",
      "9 -0.277762  0.410761  0.233124 -2.040270\n"
     ]
    }
   ],
   "source": [
    "import pandas as pd\n",
    "import numpy as np\n",
    "\n",
    "df = pd.DataFrame(np.random.randn(10,4), columns=list('ABCD'))\n",
    "print(df)"
   ]
  },
  {
   "cell_type": "code",
   "execution_count": 16,
   "metadata": {},
   "outputs": [],
   "source": [
    "df.to_csv(r'C:\\Users\\srr2602\\Desktop\\Test\\Python\\machine-learning-with-python\\data.csv', index = None, header=True)"
   ]
  },
  {
   "cell_type": "markdown",
   "metadata": {},
   "source": [
    "<a id=\"dataframe-index\"></a>\n",
    "### Specifying the Index in a DataFrame"
   ]
  },
  {
   "cell_type": "code",
   "execution_count": 17,
   "metadata": {},
   "outputs": [
    {
     "name": "stdout",
     "output_type": "stream",
     "text": [
      "                   A         B         C         D\n",
      "2019-05-25  0.118884  0.385206 -0.320386 -0.456324\n",
      "2019-05-26  0.734527 -1.737722 -0.164112  0.741052\n",
      "2019-05-27 -1.024309  0.056186  2.075116 -0.288879\n",
      "2019-05-28 -1.263449 -0.123481 -0.549220 -0.444590\n",
      "2019-05-29 -0.567627 -0.572061  1.427365  0.451036\n",
      "2019-05-30 -0.572796 -0.820218 -0.156499 -0.070004\n",
      "2019-05-31  1.899104 -0.192962 -0.676094  0.102150\n",
      "2019-06-01 -1.950551  0.359557  1.034092 -0.608499\n",
      "2019-06-02 -0.082232 -0.704745  2.212451 -0.796912\n",
      "2019-06-03 -0.277762  0.410761  0.233124 -2.040270\n"
     ]
    }
   ],
   "source": [
    "df_2 = pd.read_csv('data.csv')\n",
    "days = pd.date_range('20190525', periods=10)\n",
    "df_2.index = days\n",
    "print(df_2)"
   ]
  },
  {
   "cell_type": "markdown",
   "metadata": {},
   "source": [
    "To get the index of the DataFrame, use the index property as follows:"
   ]
  },
  {
   "cell_type": "code",
   "execution_count": 18,
   "metadata": {},
   "outputs": [
    {
     "name": "stdout",
     "output_type": "stream",
     "text": [
      "DatetimeIndex(['2019-05-25', '2019-05-26', '2019-05-27', '2019-05-28',\n",
      "               '2019-05-29', '2019-05-30', '2019-05-31', '2019-06-01',\n",
      "               '2019-06-02', '2019-06-03'],\n",
      "              dtype='datetime64[ns]', freq='D')\n"
     ]
    }
   ],
   "source": [
    "print(df_2.index)"
   ]
  },
  {
   "cell_type": "markdown",
   "metadata": {},
   "source": [
    "If you want to get the values of the entire DataFrame as a two-dimensional\n",
    "ndarray, use the values property:"
   ]
  },
  {
   "cell_type": "code",
   "execution_count": 19,
   "metadata": {},
   "outputs": [
    {
     "name": "stdout",
     "output_type": "stream",
     "text": [
      "[[ 0.11888394  0.38520586 -0.32038616 -0.45632357]\n",
      " [ 0.734527   -1.73772243 -0.16411162  0.74105206]\n",
      " [-1.02430875  0.05618593  2.07511605 -0.28887874]\n",
      " [-1.26344935 -0.12348073 -0.54921992 -0.44459039]\n",
      " [-0.567627   -0.57206068  1.42736479  0.45103603]\n",
      " [-0.57279634 -0.8202182  -0.15649908 -0.07000413]\n",
      " [ 1.89910352 -0.19296232 -0.67609395  0.10215024]\n",
      " [-1.95055105  0.35955661  1.03409192 -0.60849859]\n",
      " [-0.08223218 -0.70474496  2.21245131 -0.79691157]\n",
      " [-0.27776176  0.41076073  0.23312379 -2.04027006]]\n"
     ]
    }
   ],
   "source": [
    "print(df_2.values)"
   ]
  },
  {
   "cell_type": "markdown",
   "metadata": {},
   "source": [
    "<a id=\"dataframe-statistics\"></a>\n",
    "### Generating Descriptive Statistics on the DataFrame\n",
    "The Pandas DataFrame comes with a few useful functions to provide you with some detailed statistics about the values in the DataFrame. For example, you can use the `describe()` function to get values such as count, mean, standard deviation, minimum and maximum, as well as the various quartiles:"
   ]
  },
  {
   "cell_type": "code",
   "execution_count": 20,
   "metadata": {},
   "outputs": [
    {
     "name": "stdout",
     "output_type": "stream",
     "text": [
      "               A          B          C          D\n",
      "count  10.000000  10.000000  10.000000  10.000000\n",
      "mean   -0.298621  -0.293948   0.511584  -0.341124\n",
      "std     1.077697   0.679406   1.088207   0.764610\n",
      "min    -1.950551  -1.737722  -0.676094  -2.040270\n",
      "25%    -0.911431  -0.671574  -0.281318  -0.570455\n",
      "50%    -0.422694  -0.158222   0.038312  -0.366735\n",
      "75%     0.068605   0.283714   1.329047   0.059112\n",
      "max     1.899104   0.410761   2.212451   0.741052\n"
     ]
    }
   ],
   "source": [
    "print(df.describe())"
   ]
  },
  {
   "cell_type": "markdown",
   "metadata": {},
   "source": [
    "If you simply want to compute the mean in the DataFrame, you can use the `mean()` function, indicating the axis:"
   ]
  },
  {
   "cell_type": "code",
   "execution_count": 21,
   "metadata": {},
   "outputs": [
    {
     "name": "stdout",
     "output_type": "stream",
     "text": [
      "A   -0.298621\n",
      "B   -0.293948\n",
      "C    0.511584\n",
      "D   -0.341124\n",
      "dtype: float64\n"
     ]
    }
   ],
   "source": [
    "print(df.mean(0)) # 0 means compute the mean for each columns"
   ]
  },
  {
   "cell_type": "markdown",
   "metadata": {},
   "source": [
    "If you want to get the mean for each row, set the axis to 1:"
   ]
  },
  {
   "cell_type": "code",
   "execution_count": 22,
   "metadata": {},
   "outputs": [
    {
     "name": "stdout",
     "output_type": "stream",
     "text": [
      "0   -0.068155\n",
      "1   -0.106564\n",
      "2    0.204529\n",
      "3   -0.595185\n",
      "4    0.184678\n",
      "5   -0.404879\n",
      "6    0.283049\n",
      "7   -0.291350\n",
      "8    0.157141\n",
      "9   -0.418537\n",
      "dtype: float64\n"
     ]
    }
   ],
   "source": [
    "print(df.mean(1)) # 1 means compute the mean for each row"
   ]
  },
  {
   "cell_type": "markdown",
   "metadata": {},
   "source": [
    "<a id=\"dataframe-extracting\"></a>\n",
    "### Extracting from DataFrames"
   ]
  },
  {
   "cell_type": "markdown",
   "metadata": {},
   "source": [
    "#### Selecting the First and Last Five Rows  \n",
    "The `head()` function prints out the first five rows in the DataFrame:"
   ]
  },
  {
   "cell_type": "code",
   "execution_count": 23,
   "metadata": {},
   "outputs": [
    {
     "name": "stdout",
     "output_type": "stream",
     "text": [
      "          A         B         C         D\n",
      "0  0.118884  0.385206 -0.320386 -0.456324\n",
      "1  0.734527 -1.737722 -0.164112  0.741052\n",
      "2 -1.024309  0.056186  2.075116 -0.288879\n",
      "3 -1.263449 -0.123481 -0.549220 -0.444590\n",
      "4 -0.567627 -0.572061  1.427365  0.451036\n"
     ]
    }
   ],
   "source": [
    "print(df.head())"
   ]
  },
  {
   "cell_type": "markdown",
   "metadata": {},
   "source": [
    "If you want more than five rows (or less than five), you can indicate the number of rows that you want in the `head()` function"
   ]
  },
  {
   "cell_type": "code",
   "execution_count": 24,
   "metadata": {},
   "outputs": [
    {
     "name": "stdout",
     "output_type": "stream",
     "text": [
      "          A         B         C         D\n",
      "0  0.118884  0.385206 -0.320386 -0.456324\n",
      "1  0.734527 -1.737722 -0.164112  0.741052\n",
      "2 -1.024309  0.056186  2.075116 -0.288879\n",
      "3 -1.263449 -0.123481 -0.549220 -0.444590\n",
      "4 -0.567627 -0.572061  1.427365  0.451036\n",
      "5 -0.572796 -0.820218 -0.156499 -0.070004\n",
      "6  1.899104 -0.192962 -0.676094  0.102150\n",
      "7 -1.950551  0.359557  1.034092 -0.608499\n"
     ]
    }
   ],
   "source": [
    "print(df.head(8)) # prints out the first 8 rows"
   ]
  },
  {
   "cell_type": "markdown",
   "metadata": {},
   "source": [
    "The `tail()` function prints the last five rows"
   ]
  },
  {
   "cell_type": "code",
   "execution_count": 25,
   "metadata": {},
   "outputs": [
    {
     "name": "stdout",
     "output_type": "stream",
     "text": [
      "          A         B         C         D\n",
      "5 -0.572796 -0.820218 -0.156499 -0.070004\n",
      "6  1.899104 -0.192962 -0.676094  0.102150\n",
      "7 -1.950551  0.359557  1.034092 -0.608499\n",
      "8 -0.082232 -0.704745  2.212451 -0.796912\n",
      "9 -0.277762  0.410761  0.233124 -2.040270\n"
     ]
    }
   ],
   "source": [
    "print(df.tail())"
   ]
  },
  {
   "cell_type": "markdown",
   "metadata": {},
   "source": [
    "Like the `head()` function, the `tail()` function allows you to specify the number of rows to print"
   ]
  },
  {
   "cell_type": "code",
   "execution_count": 26,
   "metadata": {},
   "outputs": [
    {
     "name": "stdout",
     "output_type": "stream",
     "text": [
      "          A         B         C         D\n",
      "2 -1.024309  0.056186  2.075116 -0.288879\n",
      "3 -1.263449 -0.123481 -0.549220 -0.444590\n",
      "4 -0.567627 -0.572061  1.427365  0.451036\n",
      "5 -0.572796 -0.820218 -0.156499 -0.070004\n",
      "6  1.899104 -0.192962 -0.676094  0.102150\n",
      "7 -1.950551  0.359557  1.034092 -0.608499\n",
      "8 -0.082232 -0.704745  2.212451 -0.796912\n",
      "9 -0.277762  0.410761  0.233124 -2.040270\n"
     ]
    }
   ],
   "source": [
    "print(df.tail(8)) # prints out the last 8 rows"
   ]
  },
  {
   "cell_type": "markdown",
   "metadata": {},
   "source": [
    "#### Selecting a Specific Column in a DataFrame \n",
    "To obtain one or more columns in a DataFrame, you can specify the column label as follows:"
   ]
  },
  {
   "cell_type": "code",
   "execution_count": 27,
   "metadata": {},
   "outputs": [
    {
     "name": "stdout",
     "output_type": "stream",
     "text": [
      "0    0.118884\n",
      "1    0.734527\n",
      "2   -1.024309\n",
      "3   -1.263449\n",
      "4   -0.567627\n",
      "5   -0.572796\n",
      "6    1.899104\n",
      "7   -1.950551\n",
      "8   -0.082232\n",
      "9   -0.277762\n",
      "Name: A, dtype: float64\n",
      "*************************************************\n",
      "0    0.118884\n",
      "1    0.734527\n",
      "2   -1.024309\n",
      "3   -1.263449\n",
      "4   -0.567627\n",
      "5   -0.572796\n",
      "6    1.899104\n",
      "7   -1.950551\n",
      "8   -0.082232\n",
      "9   -0.277762\n",
      "Name: A, dtype: float64\n"
     ]
    }
   ],
   "source": [
    "print(df['A'])\n",
    "# same as\n",
    "print('*************************************************')\n",
    "print(df.A)"
   ]
  },
  {
   "cell_type": "markdown",
   "metadata": {},
   "source": [
    "If you want to retrieve more than one column, pass in a list containing the column labels:"
   ]
  },
  {
   "cell_type": "code",
   "execution_count": 28,
   "metadata": {},
   "outputs": [
    {
     "name": "stdout",
     "output_type": "stream",
     "text": [
      "          A         B\n",
      "0  0.118884  0.385206\n",
      "1  0.734527 -1.737722\n",
      "2 -1.024309  0.056186\n",
      "3 -1.263449 -0.123481\n",
      "4 -0.567627 -0.572061\n",
      "5 -0.572796 -0.820218\n",
      "6  1.899104 -0.192962\n",
      "7 -1.950551  0.359557\n",
      "8 -0.082232 -0.704745\n",
      "9 -0.277762  0.410761\n"
     ]
    }
   ],
   "source": [
    "print(df[['A','B']])"
   ]
  },
  {
   "cell_type": "markdown",
   "metadata": {},
   "source": [
    "#### Slicing Based on Row Number\n",
    "First, let’s extract a range of rows in the DataFrame:"
   ]
  },
  {
   "cell_type": "code",
   "execution_count": 29,
   "metadata": {},
   "outputs": [
    {
     "name": "stdout",
     "output_type": "stream",
     "text": [
      "          A         B         C         D\n",
      "2 -1.024309  0.056186  2.075116 -0.288879\n",
      "3 -1.263449 -0.123481 -0.549220 -0.444590\n"
     ]
    }
   ],
   "source": [
    "print(df[2:4])"
   ]
  },
  {
   "cell_type": "markdown",
   "metadata": {},
   "source": [
    "You can also use the iloc indexer for extracting rows based on row number:"
   ]
  },
  {
   "cell_type": "code",
   "execution_count": 30,
   "metadata": {},
   "outputs": [
    {
     "name": "stdout",
     "output_type": "stream",
     "text": [
      "          A         B         C         D\n",
      "2 -1.024309  0.056186  2.075116 -0.288879\n",
      "3 -1.263449 -0.123481 -0.549220 -0.444590\n"
     ]
    }
   ],
   "source": [
    "print(df.iloc[2:4])"
   ]
  },
  {
   "cell_type": "markdown",
   "metadata": {},
   "source": [
    "Note that if you wish to extract specific rows (and not a range of rows) using\n",
    "row numbers, you need to use the iloc indexer like this:"
   ]
  },
  {
   "cell_type": "code",
   "execution_count": 31,
   "metadata": {},
   "outputs": [
    {
     "name": "stdout",
     "output_type": "stream",
     "text": [
      "          A         B         C         D\n",
      "2 -1.024309  0.056186  2.075116 -0.288879\n",
      "4 -0.567627 -0.572061  1.427365  0.451036\n"
     ]
    }
   ],
   "source": [
    "print(df.iloc[[2,4]])"
   ]
  },
  {
   "cell_type": "markdown",
   "metadata": {},
   "source": [
    "Without using the iloc indexer, the following will not work:"
   ]
  },
  {
   "cell_type": "code",
   "execution_count": 68,
   "metadata": {},
   "outputs": [],
   "source": [
    "# print(df[[2,4]]) # error; need to use the iloc indexer"
   ]
  },
  {
   "cell_type": "markdown",
   "metadata": {},
   "source": [
    "The same applies when extracting a single row using a row number; you\n",
    "need to use iloc:"
   ]
  },
  {
   "cell_type": "code",
   "execution_count": 33,
   "metadata": {},
   "outputs": [
    {
     "name": "stdout",
     "output_type": "stream",
     "text": [
      "A   -1.024309\n",
      "B    0.056186\n",
      "C    2.075116\n",
      "D   -0.288879\n",
      "Name: 2, dtype: float64\n"
     ]
    }
   ],
   "source": [
    "print(df.iloc[2]) # prints out row number 2"
   ]
  },
  {
   "cell_type": "markdown",
   "metadata": {},
   "source": [
    "#### Slicing Based on Row and Column Numbers\n",
    "If you wish to extract specific rows and columns in a DataFrame, you need to use the `iloc` indexer"
   ]
  },
  {
   "cell_type": "code",
   "execution_count": 34,
   "metadata": {},
   "outputs": [
    {
     "name": "stdout",
     "output_type": "stream",
     "text": [
      "                   B         C         D\n",
      "2019-05-27  0.056186  2.075116 -0.288879\n",
      "2019-05-28 -0.123481 -0.549220 -0.444590\n"
     ]
    }
   ],
   "source": [
    "print(df_2.iloc[2:4, 1:4])"
   ]
  },
  {
   "cell_type": "markdown",
   "metadata": {},
   "source": [
    "You can also extract specific rows and columns"
   ]
  },
  {
   "cell_type": "code",
   "execution_count": 35,
   "metadata": {},
   "outputs": [
    {
     "name": "stdout",
     "output_type": "stream",
     "text": [
      "                   B         D\n",
      "2019-05-27  0.056186 -0.288879\n",
      "2019-05-29 -0.572061  0.451036\n"
     ]
    }
   ],
   "source": [
    "print(df_2.iloc[[2,4], [1,3]])"
   ]
  },
  {
   "cell_type": "markdown",
   "metadata": {},
   "source": [
    "#### Slicing Based on Labels  \n",
    "Besides extracting rows and columns using their row and column numbers, you can also extract them by label(value) "
   ]
  },
  {
   "cell_type": "code",
   "execution_count": 36,
   "metadata": {},
   "outputs": [
    {
     "name": "stdout",
     "output_type": "stream",
     "text": [
      "                   A         B         C         D\n",
      "2019-05-25  0.118884  0.385206 -0.320386 -0.456324\n",
      "2019-05-26  0.734527 -1.737722 -0.164112  0.741052\n",
      "2019-05-27 -1.024309  0.056186  2.075116 -0.288879\n",
      "2019-05-28 -1.263449 -0.123481 -0.549220 -0.444590\n",
      "2019-05-29 -0.567627 -0.572061  1.427365  0.451036\n",
      "2019-05-30 -0.572796 -0.820218 -0.156499 -0.070004\n",
      "2019-05-31  1.899104 -0.192962 -0.676094  0.102150\n",
      "2019-06-01 -1.950551  0.359557  1.034092 -0.608499\n",
      "2019-06-02 -0.082232 -0.704745  2.212451 -0.796912\n",
      "2019-06-03 -0.277762  0.410761  0.233124 -2.040270\n"
     ]
    }
   ],
   "source": [
    "print(df_2['20190501':'20190603'])"
   ]
  },
  {
   "cell_type": "markdown",
   "metadata": {},
   "source": [
    "You can also use the `loc` indexer"
   ]
  },
  {
   "cell_type": "code",
   "execution_count": 37,
   "metadata": {},
   "outputs": [
    {
     "name": "stdout",
     "output_type": "stream",
     "text": [
      "                   A         B         C         D\n",
      "2019-06-01 -1.950551  0.359557  1.034092 -0.608499\n",
      "2019-06-02 -0.082232 -0.704745  2.212451 -0.796912\n",
      "2019-06-03 -0.277762  0.410761  0.233124 -2.040270\n"
     ]
    }
   ],
   "source": [
    "print(df_2.loc['20190601':'20190603'])"
   ]
  },
  {
   "cell_type": "markdown",
   "metadata": {},
   "source": [
    "Using the `loc` indexer  is mandatory if you want to extract the columns using their _values_"
   ]
  },
  {
   "cell_type": "code",
   "execution_count": 38,
   "metadata": {},
   "outputs": [
    {
     "name": "stdout",
     "output_type": "stream",
     "text": [
      "                   A         B         C\n",
      "2019-06-01 -1.950551  0.359557  1.034092\n",
      "2019-06-02 -0.082232 -0.704745  2.212451\n",
      "2019-06-03 -0.277762  0.410761  0.233124\n"
     ]
    }
   ],
   "source": [
    "print(df_2.loc['20190601':'20190603', 'A':'C'])"
   ]
  },
  {
   "cell_type": "markdown",
   "metadata": {},
   "source": [
    "You can also extract specific columns"
   ]
  },
  {
   "cell_type": "code",
   "execution_count": 39,
   "metadata": {},
   "outputs": [
    {
     "name": "stdout",
     "output_type": "stream",
     "text": [
      "                   A         C\n",
      "2019-06-01 -1.950551  1.034092\n",
      "2019-06-02 -0.082232  2.212451\n",
      "2019-06-03 -0.277762  0.233124\n"
     ]
    }
   ],
   "source": [
    "print(df_2.loc['20190601':'20190603', ['A','C']])"
   ]
  },
  {
   "cell_type": "markdown",
   "metadata": {},
   "source": [
    "If you want to extract a specific row, use the `loc` indexer"
   ]
  },
  {
   "cell_type": "code",
   "execution_count": 40,
   "metadata": {},
   "outputs": [
    {
     "name": "stdout",
     "output_type": "stream",
     "text": [
      "A   -1.950551\n",
      "B    0.359557\n",
      "C    1.034092\n",
      "D   -0.608499\n",
      "Name: 2019-06-01 00:00:00, dtype: float64\n"
     ]
    }
   ],
   "source": [
    "print(df_2.loc['20190601'])"
   ]
  },
  {
   "cell_type": "markdown",
   "metadata": {},
   "source": [
    "Oddly, if you want to extract specific rows with datetime as the index, you cannot simply pass the date value to the `loc` indexer"
   ]
  },
  {
   "cell_type": "code",
   "execution_count": 67,
   "metadata": {},
   "outputs": [],
   "source": [
    "# print(df_2.loc[['20190601','20190603']]) # KeyError"
   ]
  },
  {
   "cell_type": "markdown",
   "metadata": {},
   "source": [
    "First, you need to convert the date into a `datetime` format"
   ]
  },
  {
   "cell_type": "code",
   "execution_count": 42,
   "metadata": {},
   "outputs": [],
   "source": [
    "from datetime import datetime"
   ]
  },
  {
   "cell_type": "code",
   "execution_count": 43,
   "metadata": {},
   "outputs": [
    {
     "name": "stdout",
     "output_type": "stream",
     "text": [
      "                   A         B         C         D\n",
      "2019-06-01 -1.950551  0.359557  1.034092 -0.608499\n",
      "2019-06-03 -0.277762  0.410761  0.233124 -2.040270\n"
     ]
    }
   ],
   "source": [
    "date1 = datetime(2019, 6, 1, 0, 0, 0)\n",
    "date2 = datetime(2019, 6, 3, 0, 0, 0)\n",
    "print(df_2.loc[[date1,date2]])"
   ]
  },
  {
   "cell_type": "markdown",
   "metadata": {},
   "source": [
    "If you want a specific row and specific columns, you can extract them as follows"
   ]
  },
  {
   "cell_type": "code",
   "execution_count": 44,
   "metadata": {},
   "outputs": [
    {
     "name": "stdout",
     "output_type": "stream",
     "text": [
      "A   -1.950551\n",
      "C    1.034092\n",
      "Name: 2019-06-01 00:00:00, dtype: float64\n"
     ]
    }
   ],
   "source": [
    "print(df_2.loc[date1, ['A','C']])"
   ]
  },
  {
   "cell_type": "markdown",
   "metadata": {},
   "source": [
    "<a id=\"single-cell-dataframe\"></a>\n",
    "### Selecting a Single Cell in a DataFrame"
   ]
  },
  {
   "cell_type": "markdown",
   "metadata": {},
   "source": [
    "If you simply wish to access a single cell in a DataFrame, there is a function that does just that: `at()`"
   ]
  },
  {
   "cell_type": "code",
   "execution_count": 45,
   "metadata": {},
   "outputs": [
    {
     "name": "stdout",
     "output_type": "stream",
     "text": [
      "0.4107607305495597\n"
     ]
    }
   ],
   "source": [
    "from datetime import datetime\n",
    "d = datetime(2019, 6, 3, 0, 0, 0)\n",
    "print(df_2.at[d, 'B'])"
   ]
  },
  {
   "cell_type": "markdown",
   "metadata": {},
   "source": [
    "<a id=\"selecting-based-cell-value\"></a>\n",
    "### Selecting Based on Cell Value"
   ]
  },
  {
   "cell_type": "markdown",
   "metadata": {},
   "source": [
    "If you want to select a subset of the DataFrame based on certain values in the cells, you can use the Boolean Indexing method."
   ]
  },
  {
   "cell_type": "code",
   "execution_count": 46,
   "metadata": {},
   "outputs": [
    {
     "name": "stdout",
     "output_type": "stream",
     "text": [
      "                   A         B         C         D\n",
      "2019-05-25  0.118884  0.385206 -0.320386 -0.456324\n"
     ]
    }
   ],
   "source": [
    "print(df_2[(df_2.A > 0) & (df_2.B > 0)])"
   ]
  },
  {
   "cell_type": "markdown",
   "metadata": {},
   "source": [
    "<a id=\"transforming-dataframes\"></a>\n",
    "### Transforming DataFrames"
   ]
  },
  {
   "cell_type": "markdown",
   "metadata": {},
   "source": [
    "If you need reflect the DataFrame over its main diagonal(converting columns to rows and rows to columns), you can use the `transpose()` function:"
   ]
  },
  {
   "cell_type": "code",
   "execution_count": 48,
   "metadata": {},
   "outputs": [
    {
     "name": "stdout",
     "output_type": "stream",
     "text": [
      "   2019-05-25  2019-05-26  2019-05-27  2019-05-28  2019-05-29  2019-05-30  \\\n",
      "A    0.118884    0.734527   -1.024309   -1.263449   -0.567627   -0.572796   \n",
      "B    0.385206   -1.737722    0.056186   -0.123481   -0.572061   -0.820218   \n",
      "C   -0.320386   -0.164112    2.075116   -0.549220    1.427365   -0.156499   \n",
      "D   -0.456324    0.741052   -0.288879   -0.444590    0.451036   -0.070004   \n",
      "\n",
      "   2019-05-31  2019-06-01  2019-06-02  2019-06-03  \n",
      "A    1.899104   -1.950551   -0.082232   -0.277762  \n",
      "B   -0.192962    0.359557   -0.704745    0.410761  \n",
      "C   -0.676094    1.034092    2.212451    0.233124  \n",
      "D    0.102150   -0.608499   -0.796912   -2.040270  \n"
     ]
    }
   ],
   "source": [
    "print(df_2.transpose())"
   ]
  },
  {
   "cell_type": "markdown",
   "metadata": {},
   "source": [
    "Alternatively, you can just use the T property, which is an accessor to the `transpose()` function:"
   ]
  },
  {
   "cell_type": "code",
   "execution_count": 49,
   "metadata": {},
   "outputs": [
    {
     "name": "stdout",
     "output_type": "stream",
     "text": [
      "   2019-05-25  2019-05-26  2019-05-27  2019-05-28  2019-05-29  2019-05-30  \\\n",
      "A    0.118884    0.734527   -1.024309   -1.263449   -0.567627   -0.572796   \n",
      "B    0.385206   -1.737722    0.056186   -0.123481   -0.572061   -0.820218   \n",
      "C   -0.320386   -0.164112    2.075116   -0.549220    1.427365   -0.156499   \n",
      "D   -0.456324    0.741052   -0.288879   -0.444590    0.451036   -0.070004   \n",
      "\n",
      "   2019-05-31  2019-06-01  2019-06-02  2019-06-03  \n",
      "A    1.899104   -1.950551   -0.082232   -0.277762  \n",
      "B   -0.192962    0.359557   -0.704745    0.410761  \n",
      "C   -0.676094    1.034092    2.212451    0.233124  \n",
      "D    0.102150   -0.608499   -0.796912   -2.040270  \n"
     ]
    }
   ],
   "source": [
    "print(df_2.T)"
   ]
  },
  {
   "cell_type": "markdown",
   "metadata": {},
   "source": [
    "<a id=\"dataframes-series\"></a>\n",
    "### Checking to See If a Result is a DataFrame or Series"
   ]
  },
  {
   "cell_type": "markdown",
   "metadata": {},
   "source": [
    "One the common problems that you will face with Pandas is knowing if the result that you have obtained is a Series or a DataFrame."
   ]
  },
  {
   "cell_type": "code",
   "execution_count": 50,
   "metadata": {},
   "outputs": [],
   "source": [
    "def checkSeriesOrDataframe(var):\n",
    "    if isinstance(var, pd.DataFrame):\n",
    "        return 'Dataframe'\n",
    "    if isinstance(var, pd.Series):\n",
    "        return 'Series'"
   ]
  },
  {
   "cell_type": "code",
   "execution_count": 51,
   "metadata": {},
   "outputs": [
    {
     "data": {
      "text/plain": [
       "'Dataframe'"
      ]
     },
     "execution_count": 51,
     "metadata": {},
     "output_type": "execute_result"
    }
   ],
   "source": [
    "checkSeriesOrDataframe(df_2)"
   ]
  },
  {
   "cell_type": "code",
   "execution_count": 52,
   "metadata": {},
   "outputs": [
    {
     "data": {
      "text/plain": [
       "'Series'"
      ]
     },
     "execution_count": 52,
     "metadata": {},
     "output_type": "execute_result"
    }
   ],
   "source": [
    "checkSeriesOrDataframe(df_2.loc['20190601'])"
   ]
  },
  {
   "cell_type": "markdown",
   "metadata": {},
   "source": [
    "<a id=\"sorting-dataframe\"></a>\n",
    "### Sorting Data in a DataFrame"
   ]
  },
  {
   "cell_type": "markdown",
   "metadata": {},
   "source": [
    "There are two ways that you can sort the data in a DataFrame:\n",
    "1. Sort by labels(axis) using ther `sort_index()` function\n",
    "2. Sort by value using the `sort_values()` function"
   ]
  },
  {
   "cell_type": "markdown",
   "metadata": {},
   "source": [
    "#### Sorting by Index"
   ]
  },
  {
   "cell_type": "markdown",
   "metadata": {},
   "source": [
    "To sort using the axis, you need to specify if you want to sort by index or column."
   ]
  },
  {
   "cell_type": "code",
   "execution_count": 55,
   "metadata": {},
   "outputs": [
    {
     "name": "stdout",
     "output_type": "stream",
     "text": [
      "                   A         B         C         D\n",
      "2019-06-03 -0.277762  0.410761  0.233124 -2.040270\n",
      "2019-06-02 -0.082232 -0.704745  2.212451 -0.796912\n",
      "2019-06-01 -1.950551  0.359557  1.034092 -0.608499\n",
      "2019-05-31  1.899104 -0.192962 -0.676094  0.102150\n",
      "2019-05-30 -0.572796 -0.820218 -0.156499 -0.070004\n",
      "2019-05-29 -0.567627 -0.572061  1.427365  0.451036\n",
      "2019-05-28 -1.263449 -0.123481 -0.549220 -0.444590\n",
      "2019-05-27 -1.024309  0.056186  2.075116 -0.288879\n",
      "2019-05-26  0.734527 -1.737722 -0.164112  0.741052\n",
      "2019-05-25  0.118884  0.385206 -0.320386 -0.456324\n"
     ]
    }
   ],
   "source": [
    "print(df_2.sort_index(axis=0, ascending=False)) # axis = 0 means sort by index"
   ]
  },
  {
   "cell_type": "markdown",
   "metadata": {},
   "source": [
    "__TIP__ If you want the original DataFrame to be sorted, use the `inplace` parameter and set it to `True`."
   ]
  },
  {
   "cell_type": "markdown",
   "metadata": {},
   "source": [
    "Setting the `axis` parameter to 1 indicates that you want to sort by column labels:"
   ]
  },
  {
   "cell_type": "code",
   "execution_count": 59,
   "metadata": {},
   "outputs": [
    {
     "data": {
      "text/html": [
       "<div>\n",
       "<style scoped>\n",
       "    .dataframe tbody tr th:only-of-type {\n",
       "        vertical-align: middle;\n",
       "    }\n",
       "\n",
       "    .dataframe tbody tr th {\n",
       "        vertical-align: top;\n",
       "    }\n",
       "\n",
       "    .dataframe thead th {\n",
       "        text-align: right;\n",
       "    }\n",
       "</style>\n",
       "<table border=\"1\" class=\"dataframe\">\n",
       "  <thead>\n",
       "    <tr style=\"text-align: right;\">\n",
       "      <th></th>\n",
       "      <th>D</th>\n",
       "      <th>C</th>\n",
       "      <th>B</th>\n",
       "      <th>A</th>\n",
       "    </tr>\n",
       "  </thead>\n",
       "  <tbody>\n",
       "    <tr>\n",
       "      <th>2019-05-25</th>\n",
       "      <td>-0.456324</td>\n",
       "      <td>-0.320386</td>\n",
       "      <td>0.385206</td>\n",
       "      <td>0.118884</td>\n",
       "    </tr>\n",
       "    <tr>\n",
       "      <th>2019-05-26</th>\n",
       "      <td>0.741052</td>\n",
       "      <td>-0.164112</td>\n",
       "      <td>-1.737722</td>\n",
       "      <td>0.734527</td>\n",
       "    </tr>\n",
       "    <tr>\n",
       "      <th>2019-05-27</th>\n",
       "      <td>-0.288879</td>\n",
       "      <td>2.075116</td>\n",
       "      <td>0.056186</td>\n",
       "      <td>-1.024309</td>\n",
       "    </tr>\n",
       "    <tr>\n",
       "      <th>2019-05-28</th>\n",
       "      <td>-0.444590</td>\n",
       "      <td>-0.549220</td>\n",
       "      <td>-0.123481</td>\n",
       "      <td>-1.263449</td>\n",
       "    </tr>\n",
       "    <tr>\n",
       "      <th>2019-05-29</th>\n",
       "      <td>0.451036</td>\n",
       "      <td>1.427365</td>\n",
       "      <td>-0.572061</td>\n",
       "      <td>-0.567627</td>\n",
       "    </tr>\n",
       "    <tr>\n",
       "      <th>2019-05-30</th>\n",
       "      <td>-0.070004</td>\n",
       "      <td>-0.156499</td>\n",
       "      <td>-0.820218</td>\n",
       "      <td>-0.572796</td>\n",
       "    </tr>\n",
       "    <tr>\n",
       "      <th>2019-05-31</th>\n",
       "      <td>0.102150</td>\n",
       "      <td>-0.676094</td>\n",
       "      <td>-0.192962</td>\n",
       "      <td>1.899104</td>\n",
       "    </tr>\n",
       "    <tr>\n",
       "      <th>2019-06-01</th>\n",
       "      <td>-0.608499</td>\n",
       "      <td>1.034092</td>\n",
       "      <td>0.359557</td>\n",
       "      <td>-1.950551</td>\n",
       "    </tr>\n",
       "    <tr>\n",
       "      <th>2019-06-02</th>\n",
       "      <td>-0.796912</td>\n",
       "      <td>2.212451</td>\n",
       "      <td>-0.704745</td>\n",
       "      <td>-0.082232</td>\n",
       "    </tr>\n",
       "    <tr>\n",
       "      <th>2019-06-03</th>\n",
       "      <td>-2.040270</td>\n",
       "      <td>0.233124</td>\n",
       "      <td>0.410761</td>\n",
       "      <td>-0.277762</td>\n",
       "    </tr>\n",
       "  </tbody>\n",
       "</table>\n",
       "</div>"
      ],
      "text/plain": [
       "                   D         C         B         A\n",
       "2019-05-25 -0.456324 -0.320386  0.385206  0.118884\n",
       "2019-05-26  0.741052 -0.164112 -1.737722  0.734527\n",
       "2019-05-27 -0.288879  2.075116  0.056186 -1.024309\n",
       "2019-05-28 -0.444590 -0.549220 -0.123481 -1.263449\n",
       "2019-05-29  0.451036  1.427365 -0.572061 -0.567627\n",
       "2019-05-30 -0.070004 -0.156499 -0.820218 -0.572796\n",
       "2019-05-31  0.102150 -0.676094 -0.192962  1.899104\n",
       "2019-06-01 -0.608499  1.034092  0.359557 -1.950551\n",
       "2019-06-02 -0.796912  2.212451 -0.704745 -0.082232\n",
       "2019-06-03 -2.040270  0.233124  0.410761 -0.277762"
      ]
     },
     "execution_count": 59,
     "metadata": {},
     "output_type": "execute_result"
    }
   ],
   "source": [
    "df_2.sort_index(axis=1, ascending=False) # axis = 1 means sort by column"
   ]
  },
  {
   "cell_type": "markdown",
   "metadata": {},
   "source": [
    "#### Sorting by Value"
   ]
  },
  {
   "cell_type": "markdown",
   "metadata": {},
   "source": [
    "To sort by value, use `sort_values()` function. The following statement sorts the DataFrame based on the values in column \"A\"."
   ]
  },
  {
   "cell_type": "code",
   "execution_count": 58,
   "metadata": {},
   "outputs": [
    {
     "data": {
      "text/html": [
       "<div>\n",
       "<style scoped>\n",
       "    .dataframe tbody tr th:only-of-type {\n",
       "        vertical-align: middle;\n",
       "    }\n",
       "\n",
       "    .dataframe tbody tr th {\n",
       "        vertical-align: top;\n",
       "    }\n",
       "\n",
       "    .dataframe thead th {\n",
       "        text-align: right;\n",
       "    }\n",
       "</style>\n",
       "<table border=\"1\" class=\"dataframe\">\n",
       "  <thead>\n",
       "    <tr style=\"text-align: right;\">\n",
       "      <th></th>\n",
       "      <th>A</th>\n",
       "      <th>B</th>\n",
       "      <th>C</th>\n",
       "      <th>D</th>\n",
       "    </tr>\n",
       "  </thead>\n",
       "  <tbody>\n",
       "    <tr>\n",
       "      <th>2019-06-01</th>\n",
       "      <td>-1.950551</td>\n",
       "      <td>0.359557</td>\n",
       "      <td>1.034092</td>\n",
       "      <td>-0.608499</td>\n",
       "    </tr>\n",
       "    <tr>\n",
       "      <th>2019-05-28</th>\n",
       "      <td>-1.263449</td>\n",
       "      <td>-0.123481</td>\n",
       "      <td>-0.549220</td>\n",
       "      <td>-0.444590</td>\n",
       "    </tr>\n",
       "    <tr>\n",
       "      <th>2019-05-27</th>\n",
       "      <td>-1.024309</td>\n",
       "      <td>0.056186</td>\n",
       "      <td>2.075116</td>\n",
       "      <td>-0.288879</td>\n",
       "    </tr>\n",
       "    <tr>\n",
       "      <th>2019-05-30</th>\n",
       "      <td>-0.572796</td>\n",
       "      <td>-0.820218</td>\n",
       "      <td>-0.156499</td>\n",
       "      <td>-0.070004</td>\n",
       "    </tr>\n",
       "    <tr>\n",
       "      <th>2019-05-29</th>\n",
       "      <td>-0.567627</td>\n",
       "      <td>-0.572061</td>\n",
       "      <td>1.427365</td>\n",
       "      <td>0.451036</td>\n",
       "    </tr>\n",
       "    <tr>\n",
       "      <th>2019-06-03</th>\n",
       "      <td>-0.277762</td>\n",
       "      <td>0.410761</td>\n",
       "      <td>0.233124</td>\n",
       "      <td>-2.040270</td>\n",
       "    </tr>\n",
       "    <tr>\n",
       "      <th>2019-06-02</th>\n",
       "      <td>-0.082232</td>\n",
       "      <td>-0.704745</td>\n",
       "      <td>2.212451</td>\n",
       "      <td>-0.796912</td>\n",
       "    </tr>\n",
       "    <tr>\n",
       "      <th>2019-05-25</th>\n",
       "      <td>0.118884</td>\n",
       "      <td>0.385206</td>\n",
       "      <td>-0.320386</td>\n",
       "      <td>-0.456324</td>\n",
       "    </tr>\n",
       "    <tr>\n",
       "      <th>2019-05-26</th>\n",
       "      <td>0.734527</td>\n",
       "      <td>-1.737722</td>\n",
       "      <td>-0.164112</td>\n",
       "      <td>0.741052</td>\n",
       "    </tr>\n",
       "    <tr>\n",
       "      <th>2019-05-31</th>\n",
       "      <td>1.899104</td>\n",
       "      <td>-0.192962</td>\n",
       "      <td>-0.676094</td>\n",
       "      <td>0.102150</td>\n",
       "    </tr>\n",
       "  </tbody>\n",
       "</table>\n",
       "</div>"
      ],
      "text/plain": [
       "                   A         B         C         D\n",
       "2019-06-01 -1.950551  0.359557  1.034092 -0.608499\n",
       "2019-05-28 -1.263449 -0.123481 -0.549220 -0.444590\n",
       "2019-05-27 -1.024309  0.056186  2.075116 -0.288879\n",
       "2019-05-30 -0.572796 -0.820218 -0.156499 -0.070004\n",
       "2019-05-29 -0.567627 -0.572061  1.427365  0.451036\n",
       "2019-06-03 -0.277762  0.410761  0.233124 -2.040270\n",
       "2019-06-02 -0.082232 -0.704745  2.212451 -0.796912\n",
       "2019-05-25  0.118884  0.385206 -0.320386 -0.456324\n",
       "2019-05-26  0.734527 -1.737722 -0.164112  0.741052\n",
       "2019-05-31  1.899104 -0.192962 -0.676094  0.102150"
      ]
     },
     "execution_count": 58,
     "metadata": {},
     "output_type": "execute_result"
    }
   ],
   "source": [
    "df_2.sort_values('A', axis=0)"
   ]
  },
  {
   "cell_type": "markdown",
   "metadata": {},
   "source": [
    "To sort based on a particular index, set the axis parameter to 1:"
   ]
  },
  {
   "cell_type": "code",
   "execution_count": 60,
   "metadata": {
    "scrolled": true
   },
   "outputs": [
    {
     "data": {
      "text/html": [
       "<div>\n",
       "<style scoped>\n",
       "    .dataframe tbody tr th:only-of-type {\n",
       "        vertical-align: middle;\n",
       "    }\n",
       "\n",
       "    .dataframe tbody tr th {\n",
       "        vertical-align: top;\n",
       "    }\n",
       "\n",
       "    .dataframe thead th {\n",
       "        text-align: right;\n",
       "    }\n",
       "</style>\n",
       "<table border=\"1\" class=\"dataframe\">\n",
       "  <thead>\n",
       "    <tr style=\"text-align: right;\">\n",
       "      <th></th>\n",
       "      <th>D</th>\n",
       "      <th>B</th>\n",
       "      <th>A</th>\n",
       "      <th>C</th>\n",
       "    </tr>\n",
       "  </thead>\n",
       "  <tbody>\n",
       "    <tr>\n",
       "      <th>2019-05-25</th>\n",
       "      <td>-0.456324</td>\n",
       "      <td>0.385206</td>\n",
       "      <td>0.118884</td>\n",
       "      <td>-0.320386</td>\n",
       "    </tr>\n",
       "    <tr>\n",
       "      <th>2019-05-26</th>\n",
       "      <td>0.741052</td>\n",
       "      <td>-1.737722</td>\n",
       "      <td>0.734527</td>\n",
       "      <td>-0.164112</td>\n",
       "    </tr>\n",
       "    <tr>\n",
       "      <th>2019-05-27</th>\n",
       "      <td>-0.288879</td>\n",
       "      <td>0.056186</td>\n",
       "      <td>-1.024309</td>\n",
       "      <td>2.075116</td>\n",
       "    </tr>\n",
       "    <tr>\n",
       "      <th>2019-05-28</th>\n",
       "      <td>-0.444590</td>\n",
       "      <td>-0.123481</td>\n",
       "      <td>-1.263449</td>\n",
       "      <td>-0.549220</td>\n",
       "    </tr>\n",
       "    <tr>\n",
       "      <th>2019-05-29</th>\n",
       "      <td>0.451036</td>\n",
       "      <td>-0.572061</td>\n",
       "      <td>-0.567627</td>\n",
       "      <td>1.427365</td>\n",
       "    </tr>\n",
       "    <tr>\n",
       "      <th>2019-05-30</th>\n",
       "      <td>-0.070004</td>\n",
       "      <td>-0.820218</td>\n",
       "      <td>-0.572796</td>\n",
       "      <td>-0.156499</td>\n",
       "    </tr>\n",
       "    <tr>\n",
       "      <th>2019-05-31</th>\n",
       "      <td>0.102150</td>\n",
       "      <td>-0.192962</td>\n",
       "      <td>1.899104</td>\n",
       "      <td>-0.676094</td>\n",
       "    </tr>\n",
       "    <tr>\n",
       "      <th>2019-06-01</th>\n",
       "      <td>-0.608499</td>\n",
       "      <td>0.359557</td>\n",
       "      <td>-1.950551</td>\n",
       "      <td>1.034092</td>\n",
       "    </tr>\n",
       "    <tr>\n",
       "      <th>2019-06-02</th>\n",
       "      <td>-0.796912</td>\n",
       "      <td>-0.704745</td>\n",
       "      <td>-0.082232</td>\n",
       "      <td>2.212451</td>\n",
       "    </tr>\n",
       "    <tr>\n",
       "      <th>2019-06-03</th>\n",
       "      <td>-2.040270</td>\n",
       "      <td>0.410761</td>\n",
       "      <td>-0.277762</td>\n",
       "      <td>0.233124</td>\n",
       "    </tr>\n",
       "  </tbody>\n",
       "</table>\n",
       "</div>"
      ],
      "text/plain": [
       "                   D         B         A         C\n",
       "2019-05-25 -0.456324  0.385206  0.118884 -0.320386\n",
       "2019-05-26  0.741052 -1.737722  0.734527 -0.164112\n",
       "2019-05-27 -0.288879  0.056186 -1.024309  2.075116\n",
       "2019-05-28 -0.444590 -0.123481 -1.263449 -0.549220\n",
       "2019-05-29  0.451036 -0.572061 -0.567627  1.427365\n",
       "2019-05-30 -0.070004 -0.820218 -0.572796 -0.156499\n",
       "2019-05-31  0.102150 -0.192962  1.899104 -0.676094\n",
       "2019-06-01 -0.608499  0.359557 -1.950551  1.034092\n",
       "2019-06-02 -0.796912 -0.704745 -0.082232  2.212451\n",
       "2019-06-03 -2.040270  0.410761 -0.277762  0.233124"
      ]
     },
     "execution_count": 60,
     "metadata": {},
     "output_type": "execute_result"
    }
   ],
   "source": [
    "df_2.sort_values('20190602', axis=1)"
   ]
  },
  {
   "cell_type": "markdown",
   "metadata": {},
   "source": [
    "<a id=\"functions-dataframe\"></a>\n",
    "### Applying Functions to a DataFrame"
   ]
  },
  {
   "cell_type": "markdown",
   "metadata": {},
   "source": [
    "You can also apply functions to values in a DataFrame using `apply()` function."
   ]
  },
  {
   "cell_type": "code",
   "execution_count": 62,
   "metadata": {},
   "outputs": [],
   "source": [
    "import math\n",
    "sq_root = lambda x: math.sqrt(x) if x > 0 else 0\n",
    "sq = lambda x: x**2"
   ]
  },
  {
   "cell_type": "markdown",
   "metadata": {},
   "source": [
    "It is important to note that objects passed to the `apply()` function are Series objects whose index is either the DataFrame´s index(axis=0) or the DataFrame's columns(axis=1)"
   ]
  },
  {
   "cell_type": "code",
   "execution_count": 63,
   "metadata": {},
   "outputs": [
    {
     "data": {
      "text/plain": [
       "2019-05-25    0.620650\n",
       "2019-05-26    0.000000\n",
       "2019-05-27    0.237036\n",
       "2019-05-28    0.000000\n",
       "2019-05-29    0.000000\n",
       "2019-05-30    0.000000\n",
       "2019-05-31    0.000000\n",
       "2019-06-01    0.599630\n",
       "2019-06-02    0.000000\n",
       "2019-06-03    0.640906\n",
       "Freq: D, Name: B, dtype: float64"
      ]
     },
     "execution_count": 63,
     "metadata": {},
     "output_type": "execute_result"
    }
   ],
   "source": [
    "df_2.B.apply(sq_root)"
   ]
  },
  {
   "cell_type": "markdown",
   "metadata": {},
   "source": [
    "You can also apply the `sq()` function to `df_2.B`"
   ]
  },
  {
   "cell_type": "code",
   "execution_count": 64,
   "metadata": {},
   "outputs": [
    {
     "data": {
      "text/plain": [
       "2019-05-25    0.148384\n",
       "2019-05-26    3.019679\n",
       "2019-05-27    0.003157\n",
       "2019-05-28    0.015247\n",
       "2019-05-29    0.327253\n",
       "2019-05-30    0.672758\n",
       "2019-05-31    0.037234\n",
       "2019-06-01    0.129281\n",
       "2019-06-02    0.496665\n",
       "2019-06-03    0.168724\n",
       "Freq: D, Name: B, dtype: float64"
      ]
     },
     "execution_count": 64,
     "metadata": {},
     "output_type": "execute_result"
    }
   ],
   "source": [
    "df_2.B.apply(sq)"
   ]
  },
  {
   "cell_type": "markdown",
   "metadata": {},
   "source": [
    "If you apply the `sq_root()` function to the DataFrame, you will get a `ValueError`"
   ]
  },
  {
   "cell_type": "code",
   "execution_count": 66,
   "metadata": {
    "scrolled": true
   },
   "outputs": [],
   "source": [
    "# df_2.apply(sq_root) # ValueError"
   ]
  },
  {
   "cell_type": "markdown",
   "metadata": {},
   "source": [
    "This is because the object passed into the `apply()` function in this case is a DataFrame, not a Series. Interestingly, you can apply the `sq()` function to the DataFrame"
   ]
  },
  {
   "cell_type": "code",
   "execution_count": 69,
   "metadata": {},
   "outputs": [
    {
     "data": {
      "text/html": [
       "<div>\n",
       "<style scoped>\n",
       "    .dataframe tbody tr th:only-of-type {\n",
       "        vertical-align: middle;\n",
       "    }\n",
       "\n",
       "    .dataframe tbody tr th {\n",
       "        vertical-align: top;\n",
       "    }\n",
       "\n",
       "    .dataframe thead th {\n",
       "        text-align: right;\n",
       "    }\n",
       "</style>\n",
       "<table border=\"1\" class=\"dataframe\">\n",
       "  <thead>\n",
       "    <tr style=\"text-align: right;\">\n",
       "      <th></th>\n",
       "      <th>A</th>\n",
       "      <th>B</th>\n",
       "      <th>C</th>\n",
       "      <th>D</th>\n",
       "    </tr>\n",
       "  </thead>\n",
       "  <tbody>\n",
       "    <tr>\n",
       "      <th>2019-05-25</th>\n",
       "      <td>0.014133</td>\n",
       "      <td>0.148384</td>\n",
       "      <td>0.102647</td>\n",
       "      <td>0.208231</td>\n",
       "    </tr>\n",
       "    <tr>\n",
       "      <th>2019-05-26</th>\n",
       "      <td>0.539530</td>\n",
       "      <td>3.019679</td>\n",
       "      <td>0.026933</td>\n",
       "      <td>0.549158</td>\n",
       "    </tr>\n",
       "    <tr>\n",
       "      <th>2019-05-27</th>\n",
       "      <td>1.049208</td>\n",
       "      <td>0.003157</td>\n",
       "      <td>4.306107</td>\n",
       "      <td>0.083451</td>\n",
       "    </tr>\n",
       "    <tr>\n",
       "      <th>2019-05-28</th>\n",
       "      <td>1.596304</td>\n",
       "      <td>0.015247</td>\n",
       "      <td>0.301643</td>\n",
       "      <td>0.197661</td>\n",
       "    </tr>\n",
       "    <tr>\n",
       "      <th>2019-05-29</th>\n",
       "      <td>0.322200</td>\n",
       "      <td>0.327253</td>\n",
       "      <td>2.037370</td>\n",
       "      <td>0.203434</td>\n",
       "    </tr>\n",
       "    <tr>\n",
       "      <th>2019-05-30</th>\n",
       "      <td>0.328096</td>\n",
       "      <td>0.672758</td>\n",
       "      <td>0.024492</td>\n",
       "      <td>0.004901</td>\n",
       "    </tr>\n",
       "    <tr>\n",
       "      <th>2019-05-31</th>\n",
       "      <td>3.606594</td>\n",
       "      <td>0.037234</td>\n",
       "      <td>0.457103</td>\n",
       "      <td>0.010435</td>\n",
       "    </tr>\n",
       "    <tr>\n",
       "      <th>2019-06-01</th>\n",
       "      <td>3.804649</td>\n",
       "      <td>0.129281</td>\n",
       "      <td>1.069346</td>\n",
       "      <td>0.370271</td>\n",
       "    </tr>\n",
       "    <tr>\n",
       "      <th>2019-06-02</th>\n",
       "      <td>0.006762</td>\n",
       "      <td>0.496665</td>\n",
       "      <td>4.894941</td>\n",
       "      <td>0.635068</td>\n",
       "    </tr>\n",
       "    <tr>\n",
       "      <th>2019-06-03</th>\n",
       "      <td>0.077152</td>\n",
       "      <td>0.168724</td>\n",
       "      <td>0.054347</td>\n",
       "      <td>4.162702</td>\n",
       "    </tr>\n",
       "  </tbody>\n",
       "</table>\n",
       "</div>"
      ],
      "text/plain": [
       "                   A         B         C         D\n",
       "2019-05-25  0.014133  0.148384  0.102647  0.208231\n",
       "2019-05-26  0.539530  3.019679  0.026933  0.549158\n",
       "2019-05-27  1.049208  0.003157  4.306107  0.083451\n",
       "2019-05-28  1.596304  0.015247  0.301643  0.197661\n",
       "2019-05-29  0.322200  0.327253  2.037370  0.203434\n",
       "2019-05-30  0.328096  0.672758  0.024492  0.004901\n",
       "2019-05-31  3.606594  0.037234  0.457103  0.010435\n",
       "2019-06-01  3.804649  0.129281  1.069346  0.370271\n",
       "2019-06-02  0.006762  0.496665  4.894941  0.635068\n",
       "2019-06-03  0.077152  0.168724  0.054347  4.162702"
      ]
     },
     "execution_count": 69,
     "metadata": {},
     "output_type": "execute_result"
    }
   ],
   "source": [
    "df_2.apply(sq)"
   ]
  },
  {
   "cell_type": "markdown",
   "metadata": {},
   "source": [
    "If you want to apply the `sq_root()` function to the entire DataFrame, you can iterate through the columns and apply the function to each column:"
   ]
  },
  {
   "cell_type": "code",
   "execution_count": 70,
   "metadata": {},
   "outputs": [
    {
     "name": "stdout",
     "output_type": "stream",
     "text": [
      "                   A         B         C         D\n",
      "2019-05-25  0.344796  0.620650  0.000000  0.000000\n",
      "2019-05-26  0.857046  0.000000  0.000000  0.860844\n",
      "2019-05-27  0.000000  0.237036  1.440526  0.000000\n",
      "2019-05-28  0.000000  0.000000  0.000000  0.000000\n",
      "2019-05-29  0.000000  0.000000  1.194724  0.671592\n",
      "2019-05-30  0.000000  0.000000  0.000000  0.000000\n",
      "2019-05-31  1.378080  0.000000  0.000000  0.319610\n",
      "2019-06-01  0.000000  0.599630  1.016903  0.000000\n",
      "2019-06-02  0.000000  0.000000  1.487431  0.000000\n",
      "2019-06-03  0.000000  0.640906  0.482829  0.000000\n"
     ]
    }
   ],
   "source": [
    "for column in df_2:\n",
    "    df_2[column] = df_2[column].apply(sq_root)\n",
    "print(df_2)"
   ]
  },
  {
   "cell_type": "markdown",
   "metadata": {},
   "source": [
    "The `apply()` function can be applied on either axis: _index_ (0; apply function to each column) or _column_ (1; apply function to each row). For the two particular lambda functions that we have seen thus far, it does not matter which axis you apply it to, and the result would be the same. However, for some functions, the axis that you apply it to does matter. For example, the following statement uses the `sum()` function from NumPy and applies it to the rows of the DataFrame:"
   ]
  },
  {
   "cell_type": "code",
   "execution_count": 73,
   "metadata": {},
   "outputs": [
    {
     "data": {
      "text/plain": [
       "A    2.579921\n",
       "B    2.098222\n",
       "C    5.622413\n",
       "D    1.852045\n",
       "dtype: float64"
      ]
     },
     "execution_count": 73,
     "metadata": {},
     "output_type": "execute_result"
    }
   ],
   "source": [
    "df_2.apply(np.sum, axis=0)"
   ]
  },
  {
   "cell_type": "markdown",
   "metadata": {},
   "source": [
    "If you set _axis_ to _1_, you will see the summation applied across each row:"
   ]
  },
  {
   "cell_type": "code",
   "execution_count": 74,
   "metadata": {},
   "outputs": [
    {
     "data": {
      "text/plain": [
       "2019-05-25    0.965445\n",
       "2019-05-26    1.717889\n",
       "2019-05-27    1.677562\n",
       "2019-05-28    0.000000\n",
       "2019-05-29    1.866316\n",
       "2019-05-30    0.000000\n",
       "2019-05-31    1.697689\n",
       "2019-06-01    1.616533\n",
       "2019-06-02    1.487431\n",
       "2019-06-03    1.123735\n",
       "Freq: D, dtype: float64"
      ]
     },
     "execution_count": 74,
     "metadata": {},
     "output_type": "execute_result"
    }
   ],
   "source": [
    "df_2.apply(np.sum, axis=1)"
   ]
  },
  {
   "cell_type": "markdown",
   "metadata": {},
   "source": [
    "<a id=\"rows-columns\"></a>\n",
    "### Adding and Removing Rows and Columns in a DataFrame"
   ]
  },
  {
   "cell_type": "code",
   "execution_count": 75,
   "metadata": {},
   "outputs": [],
   "source": [
    "import pandas as pd"
   ]
  },
  {
   "cell_type": "code",
   "execution_count": 77,
   "metadata": {},
   "outputs": [],
   "source": [
    "data = {'name':['Janet', 'Nad', 'Timothy', 'June', 'Amy'], \n",
    "        'year': [2012, 2012, 2013, 2014, 2014], \n",
    "        'reports': [6, 13, 14, 1, 7]}"
   ]
  },
  {
   "cell_type": "code",
   "execution_count": 78,
   "metadata": {},
   "outputs": [],
   "source": [
    "df_3 = pd.DataFrame(data, index = ['Singapore', 'China', 'Japan', 'Sweden', 'Norway'])"
   ]
  },
  {
   "cell_type": "code",
   "execution_count": 79,
   "metadata": {},
   "outputs": [
    {
     "data": {
      "text/html": [
       "<div>\n",
       "<style scoped>\n",
       "    .dataframe tbody tr th:only-of-type {\n",
       "        vertical-align: middle;\n",
       "    }\n",
       "\n",
       "    .dataframe tbody tr th {\n",
       "        vertical-align: top;\n",
       "    }\n",
       "\n",
       "    .dataframe thead th {\n",
       "        text-align: right;\n",
       "    }\n",
       "</style>\n",
       "<table border=\"1\" class=\"dataframe\">\n",
       "  <thead>\n",
       "    <tr style=\"text-align: right;\">\n",
       "      <th></th>\n",
       "      <th>name</th>\n",
       "      <th>year</th>\n",
       "      <th>reports</th>\n",
       "    </tr>\n",
       "  </thead>\n",
       "  <tbody>\n",
       "    <tr>\n",
       "      <th>Singapore</th>\n",
       "      <td>Janet</td>\n",
       "      <td>2012</td>\n",
       "      <td>6</td>\n",
       "    </tr>\n",
       "    <tr>\n",
       "      <th>China</th>\n",
       "      <td>Nad</td>\n",
       "      <td>2012</td>\n",
       "      <td>13</td>\n",
       "    </tr>\n",
       "    <tr>\n",
       "      <th>Japan</th>\n",
       "      <td>Timothy</td>\n",
       "      <td>2013</td>\n",
       "      <td>14</td>\n",
       "    </tr>\n",
       "    <tr>\n",
       "      <th>Sweden</th>\n",
       "      <td>June</td>\n",
       "      <td>2014</td>\n",
       "      <td>1</td>\n",
       "    </tr>\n",
       "    <tr>\n",
       "      <th>Norway</th>\n",
       "      <td>Amy</td>\n",
       "      <td>2014</td>\n",
       "      <td>7</td>\n",
       "    </tr>\n",
       "  </tbody>\n",
       "</table>\n",
       "</div>"
      ],
      "text/plain": [
       "              name  year  reports\n",
       "Singapore    Janet  2012        6\n",
       "China          Nad  2012       13\n",
       "Japan      Timothy  2013       14\n",
       "Sweden        June  2014        1\n",
       "Norway         Amy  2014        7"
      ]
     },
     "execution_count": 79,
     "metadata": {},
     "output_type": "execute_result"
    }
   ],
   "source": [
    "df_3"
   ]
  },
  {
   "cell_type": "markdown",
   "metadata": {},
   "source": [
    "#### Adding a Column"
   ]
  },
  {
   "cell_type": "markdown",
   "metadata": {},
   "source": [
    "Add a new column named \"school\" to the DataFrame:"
   ]
  },
  {
   "cell_type": "code",
   "execution_count": 80,
   "metadata": {},
   "outputs": [],
   "source": [
    "import numpy as np"
   ]
  },
  {
   "cell_type": "code",
   "execution_count": 81,
   "metadata": {},
   "outputs": [],
   "source": [
    "schools = np.array([\"Cambridge\",\"Oxford\",\"Oxford\",\"Cambridge\",\"Oxford\"])"
   ]
  },
  {
   "cell_type": "code",
   "execution_count": 82,
   "metadata": {},
   "outputs": [],
   "source": [
    "df_3[\"school\"] = schools"
   ]
  },
  {
   "cell_type": "code",
   "execution_count": 83,
   "metadata": {},
   "outputs": [
    {
     "data": {
      "text/html": [
       "<div>\n",
       "<style scoped>\n",
       "    .dataframe tbody tr th:only-of-type {\n",
       "        vertical-align: middle;\n",
       "    }\n",
       "\n",
       "    .dataframe tbody tr th {\n",
       "        vertical-align: top;\n",
       "    }\n",
       "\n",
       "    .dataframe thead th {\n",
       "        text-align: right;\n",
       "    }\n",
       "</style>\n",
       "<table border=\"1\" class=\"dataframe\">\n",
       "  <thead>\n",
       "    <tr style=\"text-align: right;\">\n",
       "      <th></th>\n",
       "      <th>name</th>\n",
       "      <th>year</th>\n",
       "      <th>reports</th>\n",
       "      <th>school</th>\n",
       "    </tr>\n",
       "  </thead>\n",
       "  <tbody>\n",
       "    <tr>\n",
       "      <th>Singapore</th>\n",
       "      <td>Janet</td>\n",
       "      <td>2012</td>\n",
       "      <td>6</td>\n",
       "      <td>Cambridge</td>\n",
       "    </tr>\n",
       "    <tr>\n",
       "      <th>China</th>\n",
       "      <td>Nad</td>\n",
       "      <td>2012</td>\n",
       "      <td>13</td>\n",
       "      <td>Oxford</td>\n",
       "    </tr>\n",
       "    <tr>\n",
       "      <th>Japan</th>\n",
       "      <td>Timothy</td>\n",
       "      <td>2013</td>\n",
       "      <td>14</td>\n",
       "      <td>Oxford</td>\n",
       "    </tr>\n",
       "    <tr>\n",
       "      <th>Sweden</th>\n",
       "      <td>June</td>\n",
       "      <td>2014</td>\n",
       "      <td>1</td>\n",
       "      <td>Cambridge</td>\n",
       "    </tr>\n",
       "    <tr>\n",
       "      <th>Norway</th>\n",
       "      <td>Amy</td>\n",
       "      <td>2014</td>\n",
       "      <td>7</td>\n",
       "      <td>Oxford</td>\n",
       "    </tr>\n",
       "  </tbody>\n",
       "</table>\n",
       "</div>"
      ],
      "text/plain": [
       "              name  year  reports     school\n",
       "Singapore    Janet  2012        6  Cambridge\n",
       "China          Nad  2012       13     Oxford\n",
       "Japan      Timothy  2013       14     Oxford\n",
       "Sweden        June  2014        1  Cambridge\n",
       "Norway         Amy  2014        7     Oxford"
      ]
     },
     "execution_count": 83,
     "metadata": {},
     "output_type": "execute_result"
    }
   ],
   "source": [
    "df_3"
   ]
  },
  {
   "cell_type": "markdown",
   "metadata": {},
   "source": [
    "#### Removing Rows"
   ]
  },
  {
   "cell_type": "markdown",
   "metadata": {},
   "source": [
    "To remove one or more rows, use the `drop()` function."
   ]
  },
  {
   "cell_type": "code",
   "execution_count": 84,
   "metadata": {},
   "outputs": [
    {
     "data": {
      "text/html": [
       "<div>\n",
       "<style scoped>\n",
       "    .dataframe tbody tr th:only-of-type {\n",
       "        vertical-align: middle;\n",
       "    }\n",
       "\n",
       "    .dataframe tbody tr th {\n",
       "        vertical-align: top;\n",
       "    }\n",
       "\n",
       "    .dataframe thead th {\n",
       "        text-align: right;\n",
       "    }\n",
       "</style>\n",
       "<table border=\"1\" class=\"dataframe\">\n",
       "  <thead>\n",
       "    <tr style=\"text-align: right;\">\n",
       "      <th></th>\n",
       "      <th>name</th>\n",
       "      <th>year</th>\n",
       "      <th>reports</th>\n",
       "      <th>school</th>\n",
       "    </tr>\n",
       "  </thead>\n",
       "  <tbody>\n",
       "    <tr>\n",
       "      <th>Singapore</th>\n",
       "      <td>Janet</td>\n",
       "      <td>2012</td>\n",
       "      <td>6</td>\n",
       "      <td>Cambridge</td>\n",
       "    </tr>\n",
       "    <tr>\n",
       "      <th>Sweden</th>\n",
       "      <td>June</td>\n",
       "      <td>2014</td>\n",
       "      <td>1</td>\n",
       "      <td>Cambridge</td>\n",
       "    </tr>\n",
       "    <tr>\n",
       "      <th>Norway</th>\n",
       "      <td>Amy</td>\n",
       "      <td>2014</td>\n",
       "      <td>7</td>\n",
       "      <td>Oxford</td>\n",
       "    </tr>\n",
       "  </tbody>\n",
       "</table>\n",
       "</div>"
      ],
      "text/plain": [
       "            name  year  reports     school\n",
       "Singapore  Janet  2012        6  Cambridge\n",
       "Sweden      June  2014        1  Cambridge\n",
       "Norway       Amy  2014        7     Oxford"
      ]
     },
     "execution_count": 84,
     "metadata": {},
     "output_type": "execute_result"
    }
   ],
   "source": [
    "df_3.drop(['China', 'Japan']) # drop rows based on value of index"
   ]
  },
  {
   "cell_type": "markdown",
   "metadata": {},
   "source": [
    "__TIP__ Like the `sort_index()` function, by default the `drop()` function does not affect the original DataFrame. Use the `inplace` parameter if you want to modify the original DataFrame."
   ]
  },
  {
   "cell_type": "markdown",
   "metadata": {},
   "source": [
    "If you want to drop a row based on a particular column values, specify the column name and the condition like this:"
   ]
  },
  {
   "cell_type": "code",
   "execution_count": 86,
   "metadata": {},
   "outputs": [
    {
     "data": {
      "text/html": [
       "<div>\n",
       "<style scoped>\n",
       "    .dataframe tbody tr th:only-of-type {\n",
       "        vertical-align: middle;\n",
       "    }\n",
       "\n",
       "    .dataframe tbody tr th {\n",
       "        vertical-align: top;\n",
       "    }\n",
       "\n",
       "    .dataframe thead th {\n",
       "        text-align: right;\n",
       "    }\n",
       "</style>\n",
       "<table border=\"1\" class=\"dataframe\">\n",
       "  <thead>\n",
       "    <tr style=\"text-align: right;\">\n",
       "      <th></th>\n",
       "      <th>name</th>\n",
       "      <th>year</th>\n",
       "      <th>reports</th>\n",
       "      <th>school</th>\n",
       "    </tr>\n",
       "  </thead>\n",
       "  <tbody>\n",
       "    <tr>\n",
       "      <th>Singapore</th>\n",
       "      <td>Janet</td>\n",
       "      <td>2012</td>\n",
       "      <td>6</td>\n",
       "      <td>Cambridge</td>\n",
       "    </tr>\n",
       "    <tr>\n",
       "      <th>Japan</th>\n",
       "      <td>Timothy</td>\n",
       "      <td>2013</td>\n",
       "      <td>14</td>\n",
       "      <td>Oxford</td>\n",
       "    </tr>\n",
       "    <tr>\n",
       "      <th>Sweden</th>\n",
       "      <td>June</td>\n",
       "      <td>2014</td>\n",
       "      <td>1</td>\n",
       "      <td>Cambridge</td>\n",
       "    </tr>\n",
       "    <tr>\n",
       "      <th>Norway</th>\n",
       "      <td>Amy</td>\n",
       "      <td>2014</td>\n",
       "      <td>7</td>\n",
       "      <td>Oxford</td>\n",
       "    </tr>\n",
       "  </tbody>\n",
       "</table>\n",
       "</div>"
      ],
      "text/plain": [
       "              name  year  reports     school\n",
       "Singapore    Janet  2012        6  Cambridge\n",
       "Japan      Timothy  2013       14     Oxford\n",
       "Sweden        June  2014        1  Cambridge\n",
       "Norway         Amy  2014        7     Oxford"
      ]
     },
     "execution_count": 86,
     "metadata": {},
     "output_type": "execute_result"
    }
   ],
   "source": [
    "df_3[df_3.name != 'Nad']"
   ]
  },
  {
   "cell_type": "markdown",
   "metadata": {},
   "source": [
    "You can also remove rows based on row number:"
   ]
  },
  {
   "cell_type": "code",
   "execution_count": 87,
   "metadata": {},
   "outputs": [
    {
     "data": {
      "text/html": [
       "<div>\n",
       "<style scoped>\n",
       "    .dataframe tbody tr th:only-of-type {\n",
       "        vertical-align: middle;\n",
       "    }\n",
       "\n",
       "    .dataframe tbody tr th {\n",
       "        vertical-align: top;\n",
       "    }\n",
       "\n",
       "    .dataframe thead th {\n",
       "        text-align: right;\n",
       "    }\n",
       "</style>\n",
       "<table border=\"1\" class=\"dataframe\">\n",
       "  <thead>\n",
       "    <tr style=\"text-align: right;\">\n",
       "      <th></th>\n",
       "      <th>name</th>\n",
       "      <th>year</th>\n",
       "      <th>reports</th>\n",
       "      <th>school</th>\n",
       "    </tr>\n",
       "  </thead>\n",
       "  <tbody>\n",
       "    <tr>\n",
       "      <th>Singapore</th>\n",
       "      <td>Janet</td>\n",
       "      <td>2012</td>\n",
       "      <td>6</td>\n",
       "      <td>Cambridge</td>\n",
       "    </tr>\n",
       "    <tr>\n",
       "      <th>Japan</th>\n",
       "      <td>Timothy</td>\n",
       "      <td>2013</td>\n",
       "      <td>14</td>\n",
       "      <td>Oxford</td>\n",
       "    </tr>\n",
       "    <tr>\n",
       "      <th>Sweden</th>\n",
       "      <td>June</td>\n",
       "      <td>2014</td>\n",
       "      <td>1</td>\n",
       "      <td>Cambridge</td>\n",
       "    </tr>\n",
       "    <tr>\n",
       "      <th>Norway</th>\n",
       "      <td>Amy</td>\n",
       "      <td>2014</td>\n",
       "      <td>7</td>\n",
       "      <td>Oxford</td>\n",
       "    </tr>\n",
       "  </tbody>\n",
       "</table>\n",
       "</div>"
      ],
      "text/plain": [
       "              name  year  reports     school\n",
       "Singapore    Janet  2012        6  Cambridge\n",
       "Japan      Timothy  2013       14     Oxford\n",
       "Sweden        June  2014        1  Cambridge\n",
       "Norway         Amy  2014        7     Oxford"
      ]
     },
     "execution_count": 87,
     "metadata": {},
     "output_type": "execute_result"
    }
   ],
   "source": [
    "df_3.drop(df_3.index[1])"
   ]
  },
  {
   "cell_type": "markdown",
   "metadata": {},
   "source": [
    "If you want to drop multiple rows, specify the row numbers represented as a list:"
   ]
  },
  {
   "cell_type": "code",
   "execution_count": 88,
   "metadata": {},
   "outputs": [
    {
     "data": {
      "text/html": [
       "<div>\n",
       "<style scoped>\n",
       "    .dataframe tbody tr th:only-of-type {\n",
       "        vertical-align: middle;\n",
       "    }\n",
       "\n",
       "    .dataframe tbody tr th {\n",
       "        vertical-align: top;\n",
       "    }\n",
       "\n",
       "    .dataframe thead th {\n",
       "        text-align: right;\n",
       "    }\n",
       "</style>\n",
       "<table border=\"1\" class=\"dataframe\">\n",
       "  <thead>\n",
       "    <tr style=\"text-align: right;\">\n",
       "      <th></th>\n",
       "      <th>name</th>\n",
       "      <th>year</th>\n",
       "      <th>reports</th>\n",
       "      <th>school</th>\n",
       "    </tr>\n",
       "  </thead>\n",
       "  <tbody>\n",
       "    <tr>\n",
       "      <th>Singapore</th>\n",
       "      <td>Janet</td>\n",
       "      <td>2012</td>\n",
       "      <td>6</td>\n",
       "      <td>Cambridge</td>\n",
       "    </tr>\n",
       "    <tr>\n",
       "      <th>Sweden</th>\n",
       "      <td>June</td>\n",
       "      <td>2014</td>\n",
       "      <td>1</td>\n",
       "      <td>Cambridge</td>\n",
       "    </tr>\n",
       "    <tr>\n",
       "      <th>Norway</th>\n",
       "      <td>Amy</td>\n",
       "      <td>2014</td>\n",
       "      <td>7</td>\n",
       "      <td>Oxford</td>\n",
       "    </tr>\n",
       "  </tbody>\n",
       "</table>\n",
       "</div>"
      ],
      "text/plain": [
       "            name  year  reports     school\n",
       "Singapore  Janet  2012        6  Cambridge\n",
       "Sweden      June  2014        1  Cambridge\n",
       "Norway       Amy  2014        7     Oxford"
      ]
     },
     "execution_count": 88,
     "metadata": {},
     "output_type": "execute_result"
    }
   ],
   "source": [
    "df_3.drop(df_3.index[[1,2]]) # remove the second and third row"
   ]
  },
  {
   "cell_type": "code",
   "execution_count": 89,
   "metadata": {},
   "outputs": [
    {
     "data": {
      "text/html": [
       "<div>\n",
       "<style scoped>\n",
       "    .dataframe tbody tr th:only-of-type {\n",
       "        vertical-align: middle;\n",
       "    }\n",
       "\n",
       "    .dataframe tbody tr th {\n",
       "        vertical-align: top;\n",
       "    }\n",
       "\n",
       "    .dataframe thead th {\n",
       "        text-align: right;\n",
       "    }\n",
       "</style>\n",
       "<table border=\"1\" class=\"dataframe\">\n",
       "  <thead>\n",
       "    <tr style=\"text-align: right;\">\n",
       "      <th></th>\n",
       "      <th>name</th>\n",
       "      <th>year</th>\n",
       "      <th>reports</th>\n",
       "      <th>school</th>\n",
       "    </tr>\n",
       "  </thead>\n",
       "  <tbody>\n",
       "    <tr>\n",
       "      <th>Singapore</th>\n",
       "      <td>Janet</td>\n",
       "      <td>2012</td>\n",
       "      <td>6</td>\n",
       "      <td>Cambridge</td>\n",
       "    </tr>\n",
       "    <tr>\n",
       "      <th>China</th>\n",
       "      <td>Nad</td>\n",
       "      <td>2012</td>\n",
       "      <td>13</td>\n",
       "      <td>Oxford</td>\n",
       "    </tr>\n",
       "    <tr>\n",
       "      <th>Japan</th>\n",
       "      <td>Timothy</td>\n",
       "      <td>2013</td>\n",
       "      <td>14</td>\n",
       "      <td>Oxford</td>\n",
       "    </tr>\n",
       "    <tr>\n",
       "      <th>Norway</th>\n",
       "      <td>Amy</td>\n",
       "      <td>2014</td>\n",
       "      <td>7</td>\n",
       "      <td>Oxford</td>\n",
       "    </tr>\n",
       "  </tbody>\n",
       "</table>\n",
       "</div>"
      ],
      "text/plain": [
       "              name  year  reports     school\n",
       "Singapore    Janet  2012        6  Cambridge\n",
       "China          Nad  2012       13     Oxford\n",
       "Japan      Timothy  2013       14     Oxford\n",
       "Norway         Amy  2014        7     Oxford"
      ]
     },
     "execution_count": 89,
     "metadata": {},
     "output_type": "execute_result"
    }
   ],
   "source": [
    "df_3.drop(df_3.index[-2]) # remove second last row"
   ]
  },
  {
   "cell_type": "markdown",
   "metadata": {},
   "source": [
    "#### Removing Columns"
   ]
  },
  {
   "cell_type": "markdown",
   "metadata": {},
   "source": [
    "The `drop()` function drops rows by default, but if you want to drop columns instead, set the _axis_ parameter to _1_ "
   ]
  },
  {
   "cell_type": "code",
   "execution_count": 90,
   "metadata": {},
   "outputs": [
    {
     "data": {
      "text/html": [
       "<div>\n",
       "<style scoped>\n",
       "    .dataframe tbody tr th:only-of-type {\n",
       "        vertical-align: middle;\n",
       "    }\n",
       "\n",
       "    .dataframe tbody tr th {\n",
       "        vertical-align: top;\n",
       "    }\n",
       "\n",
       "    .dataframe thead th {\n",
       "        text-align: right;\n",
       "    }\n",
       "</style>\n",
       "<table border=\"1\" class=\"dataframe\">\n",
       "  <thead>\n",
       "    <tr style=\"text-align: right;\">\n",
       "      <th></th>\n",
       "      <th>name</th>\n",
       "      <th>year</th>\n",
       "      <th>school</th>\n",
       "    </tr>\n",
       "  </thead>\n",
       "  <tbody>\n",
       "    <tr>\n",
       "      <th>Singapore</th>\n",
       "      <td>Janet</td>\n",
       "      <td>2012</td>\n",
       "      <td>Cambridge</td>\n",
       "    </tr>\n",
       "    <tr>\n",
       "      <th>China</th>\n",
       "      <td>Nad</td>\n",
       "      <td>2012</td>\n",
       "      <td>Oxford</td>\n",
       "    </tr>\n",
       "    <tr>\n",
       "      <th>Japan</th>\n",
       "      <td>Timothy</td>\n",
       "      <td>2013</td>\n",
       "      <td>Oxford</td>\n",
       "    </tr>\n",
       "    <tr>\n",
       "      <th>Sweden</th>\n",
       "      <td>June</td>\n",
       "      <td>2014</td>\n",
       "      <td>Cambridge</td>\n",
       "    </tr>\n",
       "    <tr>\n",
       "      <th>Norway</th>\n",
       "      <td>Amy</td>\n",
       "      <td>2014</td>\n",
       "      <td>Oxford</td>\n",
       "    </tr>\n",
       "  </tbody>\n",
       "</table>\n",
       "</div>"
      ],
      "text/plain": [
       "              name  year     school\n",
       "Singapore    Janet  2012  Cambridge\n",
       "China          Nad  2012     Oxford\n",
       "Japan      Timothy  2013     Oxford\n",
       "Sweden        June  2014  Cambridge\n",
       "Norway         Amy  2014     Oxford"
      ]
     },
     "execution_count": 90,
     "metadata": {},
     "output_type": "execute_result"
    }
   ],
   "source": [
    "df_3.drop('reports', axis=1) # drop column"
   ]
  },
  {
   "cell_type": "markdown",
   "metadata": {},
   "source": [
    "If you want to drop by column number, specify the column number using the _columns_ indexer"
   ]
  },
  {
   "cell_type": "code",
   "execution_count": 91,
   "metadata": {},
   "outputs": [
    {
     "data": {
      "text/html": [
       "<div>\n",
       "<style scoped>\n",
       "    .dataframe tbody tr th:only-of-type {\n",
       "        vertical-align: middle;\n",
       "    }\n",
       "\n",
       "    .dataframe tbody tr th {\n",
       "        vertical-align: top;\n",
       "    }\n",
       "\n",
       "    .dataframe thead th {\n",
       "        text-align: right;\n",
       "    }\n",
       "</style>\n",
       "<table border=\"1\" class=\"dataframe\">\n",
       "  <thead>\n",
       "    <tr style=\"text-align: right;\">\n",
       "      <th></th>\n",
       "      <th>name</th>\n",
       "      <th>reports</th>\n",
       "      <th>school</th>\n",
       "    </tr>\n",
       "  </thead>\n",
       "  <tbody>\n",
       "    <tr>\n",
       "      <th>Singapore</th>\n",
       "      <td>Janet</td>\n",
       "      <td>6</td>\n",
       "      <td>Cambridge</td>\n",
       "    </tr>\n",
       "    <tr>\n",
       "      <th>China</th>\n",
       "      <td>Nad</td>\n",
       "      <td>13</td>\n",
       "      <td>Oxford</td>\n",
       "    </tr>\n",
       "    <tr>\n",
       "      <th>Japan</th>\n",
       "      <td>Timothy</td>\n",
       "      <td>14</td>\n",
       "      <td>Oxford</td>\n",
       "    </tr>\n",
       "    <tr>\n",
       "      <th>Sweden</th>\n",
       "      <td>June</td>\n",
       "      <td>1</td>\n",
       "      <td>Cambridge</td>\n",
       "    </tr>\n",
       "    <tr>\n",
       "      <th>Norway</th>\n",
       "      <td>Amy</td>\n",
       "      <td>7</td>\n",
       "      <td>Oxford</td>\n",
       "    </tr>\n",
       "  </tbody>\n",
       "</table>\n",
       "</div>"
      ],
      "text/plain": [
       "              name  reports     school\n",
       "Singapore    Janet        6  Cambridge\n",
       "China          Nad       13     Oxford\n",
       "Japan      Timothy       14     Oxford\n",
       "Sweden        June        1  Cambridge\n",
       "Norway         Amy        7     Oxford"
      ]
     },
     "execution_count": 91,
     "metadata": {},
     "output_type": "execute_result"
    }
   ],
   "source": [
    "df_3.drop(df_3.columns[1], axis=1) # drop using columns number"
   ]
  },
  {
   "cell_type": "markdown",
   "metadata": {},
   "source": [
    "You can also drop multiple columns"
   ]
  },
  {
   "cell_type": "code",
   "execution_count": 92,
   "metadata": {},
   "outputs": [
    {
     "data": {
      "text/html": [
       "<div>\n",
       "<style scoped>\n",
       "    .dataframe tbody tr th:only-of-type {\n",
       "        vertical-align: middle;\n",
       "    }\n",
       "\n",
       "    .dataframe tbody tr th {\n",
       "        vertical-align: top;\n",
       "    }\n",
       "\n",
       "    .dataframe thead th {\n",
       "        text-align: right;\n",
       "    }\n",
       "</style>\n",
       "<table border=\"1\" class=\"dataframe\">\n",
       "  <thead>\n",
       "    <tr style=\"text-align: right;\">\n",
       "      <th></th>\n",
       "      <th>name</th>\n",
       "      <th>reports</th>\n",
       "    </tr>\n",
       "  </thead>\n",
       "  <tbody>\n",
       "    <tr>\n",
       "      <th>Singapore</th>\n",
       "      <td>Janet</td>\n",
       "      <td>6</td>\n",
       "    </tr>\n",
       "    <tr>\n",
       "      <th>China</th>\n",
       "      <td>Nad</td>\n",
       "      <td>13</td>\n",
       "    </tr>\n",
       "    <tr>\n",
       "      <th>Japan</th>\n",
       "      <td>Timothy</td>\n",
       "      <td>14</td>\n",
       "    </tr>\n",
       "    <tr>\n",
       "      <th>Sweden</th>\n",
       "      <td>June</td>\n",
       "      <td>1</td>\n",
       "    </tr>\n",
       "    <tr>\n",
       "      <th>Norway</th>\n",
       "      <td>Amy</td>\n",
       "      <td>7</td>\n",
       "    </tr>\n",
       "  </tbody>\n",
       "</table>\n",
       "</div>"
      ],
      "text/plain": [
       "              name  reports\n",
       "Singapore    Janet        6\n",
       "China          Nad       13\n",
       "Japan      Timothy       14\n",
       "Sweden        June        1\n",
       "Norway         Amy        7"
      ]
     },
     "execution_count": 92,
     "metadata": {},
     "output_type": "execute_result"
    }
   ],
   "source": [
    "df_3.drop(df_3.columns[[1,3]], axis=1) # drop multiple columns"
   ]
  },
  {
   "cell_type": "markdown",
   "metadata": {},
   "source": [
    "<a id=\"crosstab\"></a>\n",
    "### Generating a Crosstab "
   ]
  },
  {
   "cell_type": "markdown",
   "metadata": {},
   "source": [
    "In statistics, a _crosstab_ is used to aggregate and jointly display the distribution of two or more variables. It shows the relationships between these variables."
   ]
  },
  {
   "cell_type": "code",
   "execution_count": 93,
   "metadata": {},
   "outputs": [
    {
     "data": {
      "text/html": [
       "<div>\n",
       "<style scoped>\n",
       "    .dataframe tbody tr th:only-of-type {\n",
       "        vertical-align: middle;\n",
       "    }\n",
       "\n",
       "    .dataframe tbody tr th {\n",
       "        vertical-align: top;\n",
       "    }\n",
       "\n",
       "    .dataframe thead th {\n",
       "        text-align: right;\n",
       "    }\n",
       "</style>\n",
       "<table border=\"1\" class=\"dataframe\">\n",
       "  <thead>\n",
       "    <tr style=\"text-align: right;\">\n",
       "      <th></th>\n",
       "      <th>Gender</th>\n",
       "      <th>Team</th>\n",
       "    </tr>\n",
       "  </thead>\n",
       "  <tbody>\n",
       "    <tr>\n",
       "      <th>0</th>\n",
       "      <td>Male</td>\n",
       "      <td>1</td>\n",
       "    </tr>\n",
       "    <tr>\n",
       "      <th>1</th>\n",
       "      <td>Male</td>\n",
       "      <td>2</td>\n",
       "    </tr>\n",
       "    <tr>\n",
       "      <th>2</th>\n",
       "      <td>Female</td>\n",
       "      <td>3</td>\n",
       "    </tr>\n",
       "    <tr>\n",
       "      <th>3</th>\n",
       "      <td>Female</td>\n",
       "      <td>3</td>\n",
       "    </tr>\n",
       "    <tr>\n",
       "      <th>4</th>\n",
       "      <td>Female</td>\n",
       "      <td>1</td>\n",
       "    </tr>\n",
       "  </tbody>\n",
       "</table>\n",
       "</div>"
      ],
      "text/plain": [
       "   Gender  Team\n",
       "0    Male     1\n",
       "1    Male     2\n",
       "2  Female     3\n",
       "3  Female     3\n",
       "4  Female     1"
      ]
     },
     "execution_count": 93,
     "metadata": {},
     "output_type": "execute_result"
    }
   ],
   "source": [
    "df_4 = pd.DataFrame(\n",
    " {\n",
    " \"Gender\": ['Male','Male','Female','Female','Female'],\n",
    " \"Team\" : [1,2,3,3,1]\n",
    " })\n",
    "\n",
    "df_4"
   ]
  },
  {
   "cell_type": "markdown",
   "metadata": {},
   "source": [
    "Using a crosstab, you would be able to summarize the data and generate a table to show the distribution of each gender for each team. To do that, you use the `crosstab()` function:"
   ]
  },
  {
   "cell_type": "code",
   "execution_count": 95,
   "metadata": {},
   "outputs": [
    {
     "name": "stdout",
     "output_type": "stream",
     "text": [
      "Displaying the distribution of genders in each team\n"
     ]
    },
    {
     "data": {
      "text/html": [
       "<div>\n",
       "<style scoped>\n",
       "    .dataframe tbody tr th:only-of-type {\n",
       "        vertical-align: middle;\n",
       "    }\n",
       "\n",
       "    .dataframe tbody tr th {\n",
       "        vertical-align: top;\n",
       "    }\n",
       "\n",
       "    .dataframe thead th {\n",
       "        text-align: right;\n",
       "    }\n",
       "</style>\n",
       "<table border=\"1\" class=\"dataframe\">\n",
       "  <thead>\n",
       "    <tr style=\"text-align: right;\">\n",
       "      <th>Team</th>\n",
       "      <th>1</th>\n",
       "      <th>2</th>\n",
       "      <th>3</th>\n",
       "    </tr>\n",
       "    <tr>\n",
       "      <th>Gender</th>\n",
       "      <th></th>\n",
       "      <th></th>\n",
       "      <th></th>\n",
       "    </tr>\n",
       "  </thead>\n",
       "  <tbody>\n",
       "    <tr>\n",
       "      <th>Female</th>\n",
       "      <td>1</td>\n",
       "      <td>0</td>\n",
       "      <td>2</td>\n",
       "    </tr>\n",
       "    <tr>\n",
       "      <th>Male</th>\n",
       "      <td>1</td>\n",
       "      <td>1</td>\n",
       "      <td>0</td>\n",
       "    </tr>\n",
       "  </tbody>\n",
       "</table>\n",
       "</div>"
      ],
      "text/plain": [
       "Team    1  2  3\n",
       "Gender         \n",
       "Female  1  0  2\n",
       "Male    1  1  0"
      ]
     },
     "execution_count": 95,
     "metadata": {},
     "output_type": "execute_result"
    }
   ],
   "source": [
    "print('Displaying the distribution of genders in each team')\n",
    "pd.crosstab(df_4.Gender, df_4.Team)"
   ]
  },
  {
   "cell_type": "markdown",
   "metadata": {},
   "source": [
    "If you want to see the distribution of each team for each gender, you simply\n",
    "reverse the argument:"
   ]
  },
  {
   "cell_type": "code",
   "execution_count": 96,
   "metadata": {},
   "outputs": [
    {
     "data": {
      "text/html": [
       "<div>\n",
       "<style scoped>\n",
       "    .dataframe tbody tr th:only-of-type {\n",
       "        vertical-align: middle;\n",
       "    }\n",
       "\n",
       "    .dataframe tbody tr th {\n",
       "        vertical-align: top;\n",
       "    }\n",
       "\n",
       "    .dataframe thead th {\n",
       "        text-align: right;\n",
       "    }\n",
       "</style>\n",
       "<table border=\"1\" class=\"dataframe\">\n",
       "  <thead>\n",
       "    <tr style=\"text-align: right;\">\n",
       "      <th>Gender</th>\n",
       "      <th>Female</th>\n",
       "      <th>Male</th>\n",
       "    </tr>\n",
       "    <tr>\n",
       "      <th>Team</th>\n",
       "      <th></th>\n",
       "      <th></th>\n",
       "    </tr>\n",
       "  </thead>\n",
       "  <tbody>\n",
       "    <tr>\n",
       "      <th>1</th>\n",
       "      <td>1</td>\n",
       "      <td>1</td>\n",
       "    </tr>\n",
       "    <tr>\n",
       "      <th>2</th>\n",
       "      <td>0</td>\n",
       "      <td>1</td>\n",
       "    </tr>\n",
       "    <tr>\n",
       "      <th>3</th>\n",
       "      <td>2</td>\n",
       "      <td>0</td>\n",
       "    </tr>\n",
       "  </tbody>\n",
       "</table>\n",
       "</div>"
      ],
      "text/plain": [
       "Gender  Female  Male\n",
       "Team                \n",
       "1            1     1\n",
       "2            0     1\n",
       "3            2     0"
      ]
     },
     "execution_count": 96,
     "metadata": {},
     "output_type": "execute_result"
    }
   ],
   "source": [
    "pd.crosstab(df_4.Team, df_4.Gender)"
   ]
  },
  {
   "cell_type": "code",
   "execution_count": null,
   "metadata": {},
   "outputs": [],
   "source": []
  }
 ],
 "metadata": {
  "kernelspec": {
   "display_name": "Python 3",
   "language": "python",
   "name": "python3"
  },
  "language_info": {
   "codemirror_mode": {
    "name": "ipython",
    "version": 3
   },
   "file_extension": ".py",
   "mimetype": "text/x-python",
   "name": "python",
   "nbconvert_exporter": "python",
   "pygments_lexer": "ipython3",
   "version": "3.7.1"
  }
 },
 "nbformat": 4,
 "nbformat_minor": 2
}
